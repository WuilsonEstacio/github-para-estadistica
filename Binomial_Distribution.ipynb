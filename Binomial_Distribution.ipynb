{
  "nbformat": 4,
  "nbformat_minor": 0,
  "metadata": {
    "colab": {
      "name": "Binomial Distribution.ipynb",
      "provenance": [],
      "collapsed_sections": [],
      "authorship_tag": "ABX9TyOcBRZHlq0TRWzhvM6FuntE",
      "include_colab_link": true
    },
    "kernelspec": {
      "name": "python3",
      "display_name": "Python 3"
    }
  },
  "cells": [
    {
      "cell_type": "markdown",
      "metadata": {
        "id": "view-in-github",
        "colab_type": "text"
      },
      "source": [
        "<a href=\"https://colab.research.google.com/github/WuilsonEstacio/github-para-estadistica/blob/main/Binomial_Distribution.ipynb\" target=\"_parent\"><img src=\"https://colab.research.google.com/assets/colab-badge.svg\" alt=\"Open In Colab\"/></a>"
      ]
    },
    {
      "cell_type": "markdown",
      "metadata": {
        "id": "Gl2vkRlDVwz6"
      },
      "source": [
        "# Binomial Distribution"
      ]
    },
    {
      "cell_type": "code",
      "metadata": {
        "id": "Fsdk4ezBVvxy"
      },
      "source": [
        "import numpy as np\n",
        "from scipy import stats\n",
        "import matplotlib\n",
        "import matplotlib.pyplot as plt\n",
        "import importlib\n",
        "from scipy.stats import skew, kurtosis, chi2\n",
        "import pandas as pd\n",
        "from scipy import stats # importando scipy.stats\n",
        "import seaborn as sns # importando seaborn\n",
        "\n",
        "# importanto la api de statsmodels\n",
        "import statsmodels.formula.api as smf\n",
        "import statsmodels.api as sm"
      ],
      "execution_count": null,
      "outputs": []
    },
    {
      "cell_type": "code",
      "metadata": {
        "colab": {
          "base_uri": "https://localhost:8080/"
        },
        "id": "KdvXOmUPV21e",
        "outputId": "3e46d136-d614-47ee-dfde-d27199ac50e5"
      },
      "source": [
        "import scipy\n",
        "import seaborn as sns\n",
        "\n",
        "stats.binom.rvs(size=10,n=20,p=0.8)"
      ],
      "execution_count": null,
      "outputs": [
        {
          "output_type": "execute_result",
          "data": {
            "text/plain": [
              "array([16, 17, 17, 15, 14, 17, 14, 15, 16, 14])"
            ]
          },
          "metadata": {
            "tags": []
          },
          "execution_count": 5
        }
      ]
    },
    {
      "cell_type": "code",
      "metadata": {
        "colab": {
          "base_uri": "https://localhost:8080/",
          "height": 337
        },
        "id": "oF7zwmTYV9UW",
        "outputId": "127bc7e8-b2b4-4e21-94e9-a54753633d25"
      },
      "source": [
        "# distribucion binomial\n",
        "#import scipy, scipy.stats\n",
        "x = scipy.linspace(0,10,11)  # def linspace(start, stop, num=50, endpoint=True, retstep=False, dtype=None, axis=0)\n",
        "pmf = scipy.stats.binom.pmf(x, 10, 0.1) # pmf(k, n, p, loc=0) Probability mass function.\n",
        "import pylab\n",
        "pylab.plot(x,pmf)"
      ],
      "execution_count": null,
      "outputs": [
        {
          "output_type": "stream",
          "text": [
            "/usr/local/lib/python3.6/dist-packages/ipykernel_launcher.py:3: DeprecationWarning: scipy.linspace is deprecated and will be removed in SciPy 2.0.0, use numpy.linspace instead\n",
            "  This is separate from the ipykernel package so we can avoid doing imports until\n"
          ],
          "name": "stderr"
        },
        {
          "output_type": "execute_result",
          "data": {
            "text/plain": [
              "[<matplotlib.lines.Line2D at 0x7f223a7b3780>]"
            ]
          },
          "metadata": {
            "tags": []
          },
          "execution_count": 6
        },
        {
          "output_type": "display_data",
          "data": {
            "image/png": "[encoded data removed]",
            "text/plain": [
              "<Figure size 432x288 with 1 Axes>"
            ]
          },
          "metadata": {
            "tags": [],
            "needs_background": "light"
          }
        }
      ]
    },
    {
      "cell_type": "markdown",
      "metadata": {
        "id": "eMsfao5cWD-U"
      },
      "source": [
        "n - number of trials.\n",
        "\n",
        "p - probability of occurence of each trial (e.g. for toss of a coin 0.5 each).\n",
        "\n",
        "size - The shape of the returned array. La forma de la matriz devuelta"
      ]
    },
    {
      "cell_type": "code",
      "metadata": {
        "colab": {
          "base_uri": "https://localhost:8080/"
        },
        "id": "82HTYxhsWE91",
        "outputId": "ef8f70be-4082-4615-8661-2645cf1c3375"
      },
      "source": [
        "# Given 10 trials for coin toss generate 10 data points:\n",
        "from numpy import random\n",
        "\n",
        "x = random.binomial(n=15, p=0.4, size=10)\n",
        "print(x)\n",
        "scipy.stats.binom.rvs(n=15, p=0.4, size=10)"
      ],
      "execution_count": null,
      "outputs": [
        {
          "output_type": "stream",
          "text": [
            "[7 4 5 8 7 4 6 4 2 8]\n"
          ],
          "name": "stdout"
        },
        {
          "output_type": "execute_result",
          "data": {
            "text/plain": [
              "array([4, 7, 7, 5, 8, 4, 7, 4, 7, 4])"
            ]
          },
          "metadata": {
            "tags": []
          },
          "execution_count": 28
        }
      ]
    },
    {
      "cell_type": "markdown",
      "metadata": {
        "id": "xMQzVpXyWbhn"
      },
      "source": [
        "# Visualization of Binomial Distribution"
      ]
    },
    {
      "cell_type": "code",
      "metadata": {
        "colab": {
          "base_uri": "https://localhost:8080/",
          "height": 319
        },
        "id": "9uELOBXsWbuM",
        "outputId": "be3d8c8a-9096-4c39-c089-016209c627ee"
      },
      "source": [
        "from numpy import random\n",
        "#import matplotlib.pyplot as plt\n",
        "#import seaborn as sns\n",
        "\n",
        "sns.distplot(random.binomial(n=15, p=0.4, size=1000), hist=True, kde=False)\n",
        "plt.show()"
      ],
      "execution_count": null,
      "outputs": [
        {
          "output_type": "stream",
          "text": [
            "/usr/local/lib/python3.6/dist-packages/seaborn/distributions.py:2551: FutureWarning: `distplot` is a deprecated function and will be removed in a future version. Please adapt your code to use either `displot` (a figure-level function with similar flexibility) or `histplot` (an axes-level function for histograms).\n",
            "  warnings.warn(msg, FutureWarning)\n"
          ],
          "name": "stderr"
        },
        {
          "output_type": "display_data",
          "data": {
            "image/png": "[encoded data removed]",
            "text/plain": [
              "<Figure size 432x288 with 1 Axes>"
            ]
          },
          "metadata": {
            "tags": [],
            "needs_background": "light"
          }
        }
      ]
    },
    {
      "cell_type": "markdown",
      "metadata": {
        "id": "BWtKwCbpYW4P"
      },
      "source": [
        "Difference Between Normal and Binomial Distribution\n",
        "The main difference is that normal distribution is continous whereas binomial is discrete, but if there are enough data points it will be quite similar to normal distribution with certain loc and scale."
      ]
    },
    {
      "cell_type": "code",
      "metadata": {
        "colab": {
          "base_uri": "https://localhost:8080/",
          "height": 353
        },
        "id": "HeN49ezPYXEO",
        "outputId": "d80ad3c8-9df7-4cec-a70a-f1d07c26a15c"
      },
      "source": [
        "#from numpy import random\n",
        "#import matplotlib.pyplot as plt\n",
        "#import seaborn as sns\n",
        "\n",
        "sns.distplot(random.normal(loc=50, scale=5, size=1000), hist=False, label='normal')\n",
        "sns.distplot(random.binomial(n=100, p=0.5, size=1000), hist=False, label='binomial')\n",
        "\n",
        "plt.show()"
      ],
      "execution_count": null,
      "outputs": [
        {
          "output_type": "stream",
          "text": [
            "/usr/local/lib/python3.6/dist-packages/seaborn/distributions.py:2551: FutureWarning: `distplot` is a deprecated function and will be removed in a future version. Please adapt your code to use either `displot` (a figure-level function with similar flexibility) or `kdeplot` (an axes-level function for kernel density plots).\n",
            "  warnings.warn(msg, FutureWarning)\n",
            "/usr/local/lib/python3.6/dist-packages/seaborn/distributions.py:2551: FutureWarning: `distplot` is a deprecated function and will be removed in a future version. Please adapt your code to use either `displot` (a figure-level function with similar flexibility) or `kdeplot` (an axes-level function for kernel density plots).\n",
            "  warnings.warn(msg, FutureWarning)\n"
          ],
          "name": "stderr"
        },
        {
          "output_type": "display_data",
          "data": {
            "image/png": "[encoded data removed]",
            "text/plain": [
              "<Figure size 432x288 with 1 Axes>"
            ]
          },
          "metadata": {
            "tags": [],
            "needs_background": "light"
          }
        }
      ]
    },
    {
      "cell_type": "markdown",
      "metadata": {
        "id": "FkDlBI5_a6Rm"
      },
      "source": [
        "# Ejemplo 1"
      ]
    },
    {
      "cell_type": "markdown",
      "metadata": {
        "id": "lQGcYa4Xa-p-"
      },
      "source": [
        "2) La probabilidad de que una cierta clase de componente pase con éxito una determinada prueba de impacto es de 3/4. \n",
        "Encuentre la probabilidad de que exactamente dos de los siguientes cuatro\n",
        "componentes que se prueben pasen la prueba"
      ]
    },
    {
      "cell_type": "code",
      "metadata": {
        "colab": {
          "base_uri": "https://localhost:8080/"
        },
        "id": "4n_gB7LNZwg4",
        "outputId": "b6913d57-71a5-4dad-fe51-427996d0d74d"
      },
      "source": [
        "# probabilidad distribicion binomial\n",
        "# scipy.stats.binom.stats(n, p)\n",
        "# scipy.stats.binom.pmf(r, n, p)\n",
        "\n",
        "from scipy.stats import binom \n",
        "# setting the values \n",
        "# of n and p \n",
        "n = 4\n",
        "p = 3/4\n",
        "# defining the list of r values \n",
        "r_values = list(range(n + 1)) \n",
        "# obtaining the mean and variance  \n",
        "mean, var = binom.stats(n, p) \n",
        "# list of pmf values \n",
        "dist = [binom.pmf(r, n, p) for r in r_values ] \n",
        "# printing the table \n",
        "print(\"r\\tp(r)\") \n",
        "for i in range(n + 1): \n",
        "    print(str(r_values[i]) + \"\\t\" + str(dist[i])) \n",
        "# printing mean and variance \n",
        "print(\"mean = \"+str(mean)) \n",
        "print(\"variance = \"+str(var))"
      ],
      "execution_count": null,
      "outputs": [
        {
          "output_type": "stream",
          "text": [
            "r\tp(r)\n",
            "0\t0.003906250000000001\n",
            "1\t0.046875000000000035\n",
            "2\t0.21093750000000006\n",
            "3\t0.4218750000000001\n",
            "4\t0.31640625000000006\n",
            "mean = 3.0\n",
            "variance = 0.75\n"
          ],
          "name": "stdout"
        }
      ]
    },
    {
      "cell_type": "markdown",
      "metadata": {
        "id": "lneqxfB9bjDA"
      },
      "source": [
        "La probabilidad de que exactamente dos de las siguientes piezas cuatro componentes que se prueben pasen la prueba es de 0,2109 ."
      ]
    },
    {
      "cell_type": "code",
      "metadata": {
        "colab": {
          "base_uri": "https://localhost:8080/",
          "height": 265
        },
        "id": "VAi8vk3Ibn4M",
        "outputId": "635b57f6-8d4e-4453-bbd2-c11e5ba8d598"
      },
      "source": [
        "# grafica ejemplo 1\n",
        "from scipy.stats import binom \n",
        "import matplotlib.pyplot as plt \n",
        "# setting the values \n",
        "# of n and p \n",
        "n = 4\n",
        "p = 3/4\n",
        "# defining list of r values \n",
        "r_values = list(range(n + 1)) \n",
        "# list of pmf values \n",
        "dist = [binom.pmf(r, n, p) for r in r_values ] \n",
        "# plotting the graph  \n",
        "plt.bar(r_values, dist) \n",
        "plt.show()"
      ],
      "execution_count": null,
      "outputs": [
        {
          "output_type": "display_data",
          "data": {
            "image/png": "[encoded data removed]",
            "text/plain": [
              "<Figure size 432x288 with 1 Axes>"
            ]
          },
          "metadata": {
            "tags": [],
            "needs_background": "light"
          }
        }
      ]
    },
    {
      "cell_type": "markdown",
      "metadata": {
        "id": "yTBei4S8LVqe"
      },
      "source": [
        "# Distribución Binomial\n",
        "https://relopezbriega.github.io/blog/2016/06/29/distribuciones-de-probabilidad-con-python/"
      ]
    },
    {
      "cell_type": "code",
      "metadata": {
        "colab": {
          "base_uri": "https://localhost:8080/",
          "height": 295
        },
        "id": "IUu9oZ2CLU1t",
        "outputId": "357fc7f4-b309-4d74-807d-af64a554ec72"
      },
      "source": [
        "# Graficando Binomial\n",
        "N, p = 30, 0.4 # parametros de forma \n",
        "binomial = stats.binom(N, p) # Distribución\n",
        "x = np.arange(binomial.ppf(0.01), binomial.ppf(0.99))\n",
        "fmp = binomial.pmf(x) # Función de Masa de Probabilidad\n",
        "plt.plot(x, fmp, '--')\n",
        "plt.vlines(x, 0, fmp, colors='b', lw=5, alpha=0.5)\n",
        "plt.title('Distribución Binomial')\n",
        "plt.ylabel('probabilidad')\n",
        "plt.xlabel('valores')\n",
        "plt.show()"
      ],
      "execution_count": null,
      "outputs": [
        {
          "output_type": "display_data",
          "data": {
            "image/png": "[encoded data removed]",
            "text/plain": [
              "<Figure size 432x288 with 1 Axes>"
            ]
          },
          "metadata": {
            "tags": [],
            "needs_background": "light"
          }
        }
      ]
    },
    {
      "cell_type": "code",
      "metadata": {
        "colab": {
          "base_uri": "https://localhost:8080/",
          "height": 295
        },
        "id": "Wl2GmNgGLcgP",
        "outputId": "82c2e1a4-cbd2-4997-8c94-49cd04b17559"
      },
      "source": [
        "# histograma\n",
        "aleatorios = binomial.rvs(1000)  # genera aleatorios\n",
        "cuenta, cajas, ignorar = plt.hist(aleatorios, 20)\n",
        "plt.ylabel('frequencia')\n",
        "plt.xlabel('valores')\n",
        "plt.title('Histograma Binomial')\n",
        "plt.show()"
      ],
      "execution_count": null,
      "outputs": [
        {
          "output_type": "display_data",
          "data": {
            "image/png": "[encoded data removed]",
            "text/plain": [
              "<Figure size 432x288 with 1 Axes>"
            ]
          },
          "metadata": {
            "tags": [],
            "needs_background": "light"
          }
        }
      ]
    }
  ]
}