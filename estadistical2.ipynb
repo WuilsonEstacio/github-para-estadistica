{
  "nbformat": 4,
  "nbformat_minor": 0,
  "metadata": {
    "colab": {
      "name": "estadistical2.ipynb",
      "provenance": [],
      "collapsed_sections": [],
      "authorship_tag": "ABX9TyMwgkDej2OJov2KGVQ47h63",
      "include_colab_link": true
    },
    "kernelspec": {
      "name": "python3",
      "display_name": "Python 3"
    }
  },
  "cells": [
    {
      "cell_type": "markdown",
      "metadata": {
        "id": "view-in-github",
        "colab_type": "text"
      },
      "source": [
        "<a href=\"https://colab.research.google.com/github/WuilsonEstacio/github-para-estadistica/blob/main/estadistical2.ipynb\" target=\"_parent\"><img src=\"https://colab.research.google.com/assets/colab-badge.svg\" alt=\"Open In Colab\"/></a>"
      ]
    },
    {
      "cell_type": "code",
      "metadata": {
        "id": "seE7SEbY6vJw"
      },
      "source": [
        "#import numpy and pandas package\n",
        "import numpy as np\n",
        "import pandas as pd\n",
        "import matplotlib.pyplot as plt\n",
        "%matplotlib inline"
      ],
      "execution_count": null,
      "outputs": []
    },
    {
      "cell_type": "code",
      "metadata": {
        "id": "Um9TNNki7OLE",
        "colab": {
          "base_uri": "https://localhost:8080/",
          "height": 34
        },
        "outputId": "827ff0f5-ad0f-4023-888f-3ee719a94670"
      },
      "source": [
        "# tirar los dados dos veces\n",
        "\n",
        "die = pd.DataFrame([1, 2, 3, 4, 5, 6])\n",
        "sum_of_dice = die.sample(2, replace=True).sum().loc[0]\n",
        "print('Sum of dice is', sum_of_dice)  \n",
        "# puede obtener resultados diferentes ya que ahora imitamos el resultado de lanzar 2 dados, pero el rango debe estar limitado entre 2 y 12"
      ],
      "execution_count": null,
      "outputs": [
        {
          "output_type": "stream",
          "text": [
            "Sum of dice is 8\n"
          ],
          "name": "stdout"
        }
      ]
    },
    {
      "cell_type": "code",
      "metadata": {
        "id": "iMULaRIa8AtR",
        "colab": {
          "base_uri": "https://localhost:8080/",
          "height": 34
        },
        "outputId": "3f5cc887-c26f-4bc1-f49d-903099d8a676"
      },
      "source": [
        "# ¡Es tu turno! reemplacemos el none con el código de tirar tres dados, en lugar de dos\n",
        "\n",
        "np.random.seed(1)  # Esto es para verificar la respuesta, NO modifique esta línea de código\n",
        "\n",
        "#Modificar el código, reemplazar none\n",
        "sum_of_three_dice = die.sample(3, replace=True).sum().loc[0]\n",
        "print('Sum of theree is', sum_of_three_dice)"
      ],
      "execution_count": null,
      "outputs": [
        {
          "output_type": "stream",
          "text": [
            "Sum of theree is 15\n"
          ],
          "name": "stdout"
        }
      ]
    },
    {
      "cell_type": "code",
      "metadata": {
        "id": "8YSJD5Ai9qHV",
        "colab": {
          "base_uri": "https://localhost:8080/",
          "height": 34
        },
        "outputId": "de1be09f-565e-4535-abf8-1e175d641262"
      },
      "source": [
        "# El siguiente código imita el juego de tirar dados 50 veces. Y todos los resultados se almacenan en \"Resultado\"\n",
        "# Intentemos obtener los resultados de 50 sumas de caras.\n",
        "trial = 50\n",
        "result = [die.sample(2, replace=True).sum().loc[0] for i in range(trial)]\n",
        "# imprime los primeros 10 resultados\n",
        "print(result[:10])"
      ],
      "execution_count": null,
      "outputs": [
        {
          "output_type": "stream",
          "text": [
            "[3, 10, 2, 7, 11, 5, 11, 8, 9, 8]\n"
          ],
          "name": "stdout"
        }
      ]
    },
    {
      "cell_type": "code",
      "metadata": {
        "id": "ARpR73Q3IXk7",
        "colab": {
          "base_uri": "https://localhost:8080/",
          "height": 34
        },
        "outputId": "7c770919-c8a9-40c0-c394-dda182b58895"
      },
      "source": [
        "# To recall, this is the code to mimic the roll dice game for 50 times\n",
        "\n",
        "die = pd.DataFrame([1, 2, 3, 4, 5, 6])\n",
        "trial = 50\n",
        "results = [die.sample(2, replace=True).sum().loc[0] for i in range(trial)]\n",
        "print(results[:11])"
      ],
      "execution_count": null,
      "outputs": [
        {
          "output_type": "stream",
          "text": [
            "[5, 9, 10, 11, 3, 8, 7, 8, 4, 4, 10]\n"
          ],
          "name": "stdout"
        }
      ]
    },
    {
      "cell_type": "code",
      "metadata": {
        "id": "zKV5esIvIBUI",
        "colab": {
          "base_uri": "https://localhost:8080/",
          "height": 221
        },
        "outputId": "a9fe7507-c049-49a7-c728-01514ae9524f"
      },
      "source": [
        "# Este es el código para resumir los resultados de la suma de caras por frecuencia\n",
        "freq = pd.DataFrame(results)[0].value_counts()\n",
        "sort_freq = freq.sort_index()\n",
        "print('numb{}, freq{}')\n",
        "print(sort_freq)"
      ],
      "execution_count": null,
      "outputs": [
        {
          "output_type": "stream",
          "text": [
            "numb{}, freq{}\n",
            "3      4\n",
            "4      4\n",
            "5      5\n",
            "6      6\n",
            "7     12\n",
            "8      7\n",
            "9      3\n",
            "10     5\n",
            "11     3\n",
            "12     1\n",
            "Name: 0, dtype: int64\n"
          ],
          "name": "stdout"
        }
      ]
    },
    {
      "cell_type": "code",
      "metadata": {
        "id": "mKXdGQQjKTzw",
        "colab": {
          "base_uri": "https://localhost:8080/",
          "height": 503
        },
        "outputId": "2b7afc90-83a5-4daa-af82-8443112532fa"
      },
      "source": [
        "# trazar la base del gráfico de barras en el resultado\n",
        "\n",
        "sort_freq.plot (kind = 'bar', color = 'blue', figsize = (10, 8))"
      ],
      "execution_count": null,
      "outputs": [
        {
          "output_type": "execute_result",
          "data": {
            "text/plain": [
              "<matplotlib.axes._subplots.AxesSubplot at 0x7fca29ee3fd0>"
            ]
          },
          "metadata": {
            "tags": []
          },
          "execution_count": 8
        },
        {
          "output_type": "display_data",
          "data": {
            "image/png": "[encoded data removed]",
            "text/plain": [
              "<Figure size 720x576 with 1 Axes>"
            ]
          },
          "metadata": {
            "tags": [],
            "needs_background": "light"
          }
        }
      ]
    },
    {
      "cell_type": "code",
      "metadata": {
        "id": "0P13N0N-KoQc",
        "colab": {
          "base_uri": "https://localhost:8080/",
          "height": 503
        },
        "outputId": "ecdfa92f-b227-42ea-fb6d-cd72465a4f11"
      },
      "source": [
        "# Let us try to increase the number of trials to 10000, and see what will happen...\n",
        "trial = 10000\n",
        "results = [die.sample(2, replace=True).sum().loc[0] for i in range(trial)]\n",
        "freq = pd.DataFrame(results)[0].value_counts()\n",
        "sort_freq = freq.sort_index()\n",
        "relative_freq = sort_freq/trial\n",
        "relative_freq.plot(kind='bar', color='blue', figsize=(15, 8))"
      ],
      "execution_count": null,
      "outputs": [
        {
          "output_type": "execute_result",
          "data": {
            "text/plain": [
              "<matplotlib.axes._subplots.AxesSubplot at 0x7fca29914668>"
            ]
          },
          "metadata": {
            "tags": []
          },
          "execution_count": 9
        },
        {
          "output_type": "display_data",
          "data": {
            "image/png": "[encoded data removed]",
            "text/plain": [
              "<Figure size 1080x576 with 1 Axes>"
            ]
          },
          "metadata": {
            "tags": [],
            "needs_background": "light"
          }
        }
      ]
    },
    {
      "cell_type": "code",
      "metadata": {
        "id": "BmdyTE0bK00e",
        "colab": {
          "base_uri": "https://localhost:8080/",
          "height": 390
        },
        "outputId": "3680a118-845c-4894-e2c3-ad94a957631b"
      },
      "source": [
        "# Expectation and Variance of a distribution\n",
        "\n",
        "# suponga que tenemos dados justos, lo que significa que todas las caras se mostrarán con la misma probabilidad\n",
        "# entonces podemos decir que conocemos la 'Distribución' de la variable aleatoria - sum_of_dice\n",
        "\n",
        "X_distri = pd.DataFrame(index=[8, 6, 6, 7, 6, 5, 9, 4, 12, 7, 8]) # esta variable se tiene que hallar primero que se hallo en el paso 73\n",
        "X_distri['Prob'] = [1, 2, 3, 4, 5, 6, 5, 4, 3, 2, 1]\n",
        "X_distri['Prob'] = X_distri['Prob']/36\n",
        "X_distri"
      ],
      "execution_count": null,
      "outputs": [
        {
          "output_type": "execute_result",
          "data": {
            "text/html": [
              "<div>\n",
              "<style scoped>\n",
              "    .dataframe tbody tr th:only-of-type {\n",
              "        vertical-align: middle;\n",
              "    }\n",
              "\n",
              "    .dataframe tbody tr th {\n",
              "        vertical-align: top;\n",
              "    }\n",
              "\n",
              "    .dataframe thead th {\n",
              "        text-align: right;\n",
              "    }\n",
              "</style>\n",
              "<table border=\"1\" class=\"dataframe\">\n",
              "  <thead>\n",
              "    <tr style=\"text-align: right;\">\n",
              "      <th></th>\n",
              "      <th>Prob</th>\n",
              "    </tr>\n",
              "  </thead>\n",
              "  <tbody>\n",
              "    <tr>\n",
              "      <th>8</th>\n",
              "      <td>0.027778</td>\n",
              "    </tr>\n",
              "    <tr>\n",
              "      <th>6</th>\n",
              "      <td>0.055556</td>\n",
              "    </tr>\n",
              "    <tr>\n",
              "      <th>6</th>\n",
              "      <td>0.083333</td>\n",
              "    </tr>\n",
              "    <tr>\n",
              "      <th>7</th>\n",
              "      <td>0.111111</td>\n",
              "    </tr>\n",
              "    <tr>\n",
              "      <th>6</th>\n",
              "      <td>0.138889</td>\n",
              "    </tr>\n",
              "    <tr>\n",
              "      <th>5</th>\n",
              "      <td>0.166667</td>\n",
              "    </tr>\n",
              "    <tr>\n",
              "      <th>9</th>\n",
              "      <td>0.138889</td>\n",
              "    </tr>\n",
              "    <tr>\n",
              "      <th>4</th>\n",
              "      <td>0.111111</td>\n",
              "    </tr>\n",
              "    <tr>\n",
              "      <th>12</th>\n",
              "      <td>0.083333</td>\n",
              "    </tr>\n",
              "    <tr>\n",
              "      <th>7</th>\n",
              "      <td>0.055556</td>\n",
              "    </tr>\n",
              "    <tr>\n",
              "      <th>8</th>\n",
              "      <td>0.027778</td>\n",
              "    </tr>\n",
              "  </tbody>\n",
              "</table>\n",
              "</div>"
            ],
            "text/plain": [
              "        Prob\n",
              "8   0.027778\n",
              "6   0.055556\n",
              "6   0.083333\n",
              "7   0.111111\n",
              "6   0.138889\n",
              "5   0.166667\n",
              "9   0.138889\n",
              "4   0.111111\n",
              "12  0.083333\n",
              "7   0.055556\n",
              "8   0.027778"
            ]
          },
          "metadata": {
            "tags": []
          },
          "execution_count": 10
        }
      ]
    },
    {
      "cell_type": "code",
      "metadata": {
        "id": "pgp8HleCNLQl",
        "colab": {
          "base_uri": "https://localhost:8080/",
          "height": 34
        },
        "outputId": "373aeab2-5e71-4487-f4c5-33657a906562"
      },
      "source": [
        "# obtencion de  la media y varianza de distribucion. estas pueden describir la distribucion.\n",
        "mean = pd.Series(X_distri.index * X_distri['Prob']).sum()\n",
        "var = pd.Series(((X_distri.index - mean)**2)*X_distri['Prob']).sum()\n",
        "\n",
        "print('media, = ', mean, 'variaza, = ', var)"
      ],
      "execution_count": null,
      "outputs": [
        {
          "output_type": "stream",
          "text": [
            "media, =  6.8055555555555545 variaza, =  4.60108024691358\n"
          ],
          "name": "stdout"
        }
      ]
    },
    {
      "cell_type": "code",
      "metadata": {
        "id": "-MsI5iqzOFlj"
      },
      "source": [
        "# Media y varianza empírica\n",
        "\n",
        "# si calculamos la media y la varianza de los resultados (con un número suficientemente alto de ensayos, por ejemplo, 20000).\n",
        "trial = 20000\n",
        "results = [die.sample(2, replace=True).sum().loc[0] for i in range(trial)]"
      ],
      "execution_count": null,
      "outputs": []
    },
    {
      "cell_type": "code",
      "metadata": {
        "id": "Xfy0I9xzOqtl",
        "colab": {
          "base_uri": "https://localhost:8080/",
          "height": 34
        },
        "outputId": "1817e234-5b9f-473c-ebb1-20464f94bdba"
      },
      "source": [
        "# print the mean and variance of the 20000 trials\n",
        "results = pd.Series(results)\n",
        "print('media =', results.mean(), ', varianza =', results.var())"
      ],
      "execution_count": null,
      "outputs": [
        {
          "output_type": "stream",
          "text": [
            "media = 7.0087 , varianza = 5.839516285814291\n"
          ],
          "name": "stdout"
        }
      ]
    },
    {
      "cell_type": "code",
      "metadata": {
        "id": "V3yn8JGBQkmh",
        "colab": {
          "base_uri": "https://localhost:8080/",
          "height": 235
        },
        "outputId": "0da4eea4-9268-4522-c663-02d5c5d3ecb9"
      },
      "source": [
        "# Modelos de devolución de existencias\n",
        "\n",
        "ms = pd.read_csv('/content/microsoft.csv',index_col = 0)\n",
        "ms.head()"
      ],
      "execution_count": null,
      "outputs": [
        {
          "output_type": "execute_result",
          "data": {
            "text/html": [
              "<div>\n",
              "<style scoped>\n",
              "    .dataframe tbody tr th:only-of-type {\n",
              "        vertical-align: middle;\n",
              "    }\n",
              "\n",
              "    .dataframe tbody tr th {\n",
              "        vertical-align: top;\n",
              "    }\n",
              "\n",
              "    .dataframe thead th {\n",
              "        text-align: right;\n",
              "    }\n",
              "</style>\n",
              "<table border=\"1\" class=\"dataframe\">\n",
              "  <thead>\n",
              "    <tr style=\"text-align: right;\">\n",
              "      <th></th>\n",
              "      <th>Open</th>\n",
              "      <th>High</th>\n",
              "      <th>Low</th>\n",
              "      <th>Close</th>\n",
              "      <th>Adj Close</th>\n",
              "      <th>Volume</th>\n",
              "    </tr>\n",
              "    <tr>\n",
              "      <th>Date</th>\n",
              "      <th></th>\n",
              "      <th></th>\n",
              "      <th></th>\n",
              "      <th></th>\n",
              "      <th></th>\n",
              "      <th></th>\n",
              "    </tr>\n",
              "  </thead>\n",
              "  <tbody>\n",
              "    <tr>\n",
              "      <th>2014-12-31</th>\n",
              "      <td>46.730000</td>\n",
              "      <td>47.439999</td>\n",
              "      <td>46.450001</td>\n",
              "      <td>46.450001</td>\n",
              "      <td>42.848763</td>\n",
              "      <td>21552500</td>\n",
              "    </tr>\n",
              "    <tr>\n",
              "      <th>2015-01-02</th>\n",
              "      <td>46.660000</td>\n",
              "      <td>47.419998</td>\n",
              "      <td>46.540001</td>\n",
              "      <td>46.759998</td>\n",
              "      <td>43.134731</td>\n",
              "      <td>27913900</td>\n",
              "    </tr>\n",
              "    <tr>\n",
              "      <th>2015-01-05</th>\n",
              "      <td>46.369999</td>\n",
              "      <td>46.730000</td>\n",
              "      <td>46.250000</td>\n",
              "      <td>46.330002</td>\n",
              "      <td>42.738068</td>\n",
              "      <td>39673900</td>\n",
              "    </tr>\n",
              "    <tr>\n",
              "      <th>2015-01-06</th>\n",
              "      <td>46.380001</td>\n",
              "      <td>46.750000</td>\n",
              "      <td>45.540001</td>\n",
              "      <td>45.650002</td>\n",
              "      <td>42.110783</td>\n",
              "      <td>36447900</td>\n",
              "    </tr>\n",
              "    <tr>\n",
              "      <th>2015-01-07</th>\n",
              "      <td>45.980000</td>\n",
              "      <td>46.459999</td>\n",
              "      <td>45.490002</td>\n",
              "      <td>46.230000</td>\n",
              "      <td>42.645817</td>\n",
              "      <td>29114100</td>\n",
              "    </tr>\n",
              "  </tbody>\n",
              "</table>\n",
              "</div>"
            ],
            "text/plain": [
              "                 Open       High        Low      Close  Adj Close    Volume\n",
              "Date                                                                       \n",
              "2014-12-31  46.730000  47.439999  46.450001  46.450001  42.848763  21552500\n",
              "2015-01-02  46.660000  47.419998  46.540001  46.759998  43.134731  27913900\n",
              "2015-01-05  46.369999  46.730000  46.250000  46.330002  42.738068  39673900\n",
              "2015-01-06  46.380001  46.750000  45.540001  45.650002  42.110783  36447900\n",
              "2015-01-07  45.980000  46.459999  45.490002  46.230000  42.645817  29114100"
            ]
          },
          "metadata": {
            "tags": []
          },
          "execution_count": 15
        }
      ]
    },
    {
      "cell_type": "code",
      "metadata": {
        "id": "ZcfZu54krsk2"
      },
      "source": [
        "# Distribution of Log return\n",
        "# Permita que juegue con los datos de ms calculando el rendimiento diario del registro\n",
        "# calcula la diferencia de precio (es decir, \"Cierre\" de mañana - \"Cierre\" de hoy)?\n",
        "ms['LogReturn'] = np.log(ms['Close']).shift(-1) - np.log(ms['Close'])"
      ],
      "execution_count": null,
      "outputs": []
    },
    {
      "cell_type": "code",
      "metadata": {
        "id": "z2GR5LNVsToZ",
        "colab": {
          "base_uri": "https://localhost:8080/",
          "height": 483
        },
        "outputId": "162d127b-96c3-4191-cc43-2a1b871dd44b"
      },
      "source": [
        "# Trace un histograma para mostrar la distribución del rendimiento del registro de las acciones de Microsoft.\n",
        "# Puedes ver que está muy cerca de una distribución normal\n",
        "from scipy.stats import norm\n",
        "mu = ms['LogReturn'].mean()\n",
        "sigma = ms['LogReturn'].std(ddof=1)\n",
        "\n",
        "density = pd.DataFrame()\n",
        "density['x'] = np.arange(ms['LogReturn'].min()-0.01, ms['LogReturn'].max()+0.01, 0.001)\n",
        "density['pdf'] = norm.pdf(density['x'], mu, sigma) # norm.pdf  permite calcular la probability density function\n",
        "\n",
        "ms['LogReturn'].hist(bins=100, figsize=(15, 8)) # bits me da la resolucion\n",
        "plt.plot(density['x'], density['pdf'], color='red')\n",
        "plt.show()"
      ],
      "execution_count": null,
      "outputs": [
        {
          "output_type": "display_data",
          "data": {
            "image/png": "[encoded data removed]",
            "text/plain": [
              "<Figure size 1080x576 with 1 Axes>"
            ]
          },
          "metadata": {
            "tags": [],
            "needs_background": "light"
          }
        }
      ]
    },
    {
      "cell_type": "code",
      "metadata": {
        "id": "IUKOBq6G-9PN"
      },
      "source": [
        "#denApp=pd.DataFrame()\n",
        "#denApp['x']=np.arange(-0.1,0.1,0.0001)\n",
        "#denApp['pdf']=norm.pdf(denApp['x'],mu,sigma)\n",
        "\n",
        "#plt.ylim(0,20)\n",
        "#plt.plot(denApp['x'], denApp['pdf'])\n",
        "#plt.fill_between(x=np.arange(-0.1,-0.01,0.0001),y2=0,y1=norm.pdf(np.arange(-0.1,0.5,0.0001),mu,sigma),facecolor='pink',alpha=0.5)"
      ],
      "execution_count": null,
      "outputs": []
    },
    {
      "cell_type": "code",
      "metadata": {
        "id": "Qy_smJXhtBWv",
        "colab": {
          "base_uri": "https://localhost:8080/",
          "height": 34
        },
        "outputId": "75e2abe7-bbfb-4d3f-b511-847d0b4c124e"
      },
      "source": [
        "# Calcule la probabilidad de que el precio de las acciones caiga por encima de un cierto porcentaje en un día\n",
        "\n",
        "# probabilidad de que el precio de las acciones de microsoft caiga más del 5% = 0.05 en un día\n",
        "prob_return1 = norm.cdf(-0.05, mu, sigma)  # norm.cdf  permite calcular la cumulative distribution function\n",
        "print('The Probability is ', prob_return1)"
      ],
      "execution_count": null,
      "outputs": [
        {
          "output_type": "stream",
          "text": [
            "The Probability is  0.00017118482608677817\n"
          ],
          "name": "stdout"
        }
      ]
    },
    {
      "cell_type": "code",
      "metadata": {
        "id": "ydGfGj5UvemY",
        "colab": {
          "base_uri": "https://localhost:8080/",
          "height": 34
        },
        "outputId": "c32d24df-98db-455a-bddc-f67a7d132498"
      },
      "source": [
        "# Now is your turn, calculate the probability that the stock price of microsoft will drop over 10% in a day\n",
        "prob_return1 = norm.cdf(-0.10, mu, sigma)  # norm.cdf  permite calcular la cumulative distribution function\n",
        "print('The Probability is ', prob_return1)"
      ],
      "execution_count": null,
      "outputs": [
        {
          "output_type": "stream",
          "text": [
            "The Probability is  6.056775634858521e-13\n"
          ],
          "name": "stdout"
        }
      ]
    },
    {
      "cell_type": "code",
      "metadata": {
        "id": "sPeiH2Bbvkrf",
        "colab": {
          "base_uri": "https://localhost:8080/",
          "height": 34
        },
        "outputId": "0bd85776-d254-4ef3-cb29-786b0d584adb"
      },
      "source": [
        "# Calcule la probabilidad de que el precio de las acciones caiga por encima de un cierto porcentaje en un año.\n",
        "\n",
        "# drop over 40% in 220 days  caer mas del 40% en 220 dias\n",
        "mu220 = 220*mu\n",
        "sigma220 = (220**0.5) * sigma\n",
        "print('The probability of dropping over 40% in 220 days is ', norm.cdf(-0.4, mu220, sigma220))"
      ],
      "execution_count": null,
      "outputs": [
        {
          "output_type": "stream",
          "text": [
            "The probability of dropping over 40% in 220 days is  0.002912363313330548\n"
          ],
          "name": "stdout"
        }
      ]
    },
    {
      "cell_type": "code",
      "metadata": {
        "id": "RhsZtKWbxNVG",
        "colab": {
          "base_uri": "https://localhost:8080/",
          "height": 34
        },
        "outputId": "37a7f88d-d449-4aa8-c9b3-63173ef4a5f3"
      },
      "source": [
        "# drop over 20% in 220 days\n",
        "mu220 = 220*mu\n",
        "sigma220 = (220**0.5) * sigma\n",
        "drop20 = None\n",
        "print('The probability of dropping over 20% in 220 days is ', norm.cdf(-0.2, mu220, sigma220))"
      ],
      "execution_count": null,
      "outputs": [
        {
          "output_type": "stream",
          "text": [
            "The probability of dropping over 20% in 220 days is  0.03535237727490905\n"
          ],
          "name": "stdout"
        }
      ]
    },
    {
      "cell_type": "code",
      "metadata": {
        "id": "jCCpktUYv9vM",
        "colab": {
          "base_uri": "https://localhost:8080/",
          "height": 34
        },
        "outputId": "7bcd2635-eb94-40d8-f021-89a288efabf8"
      },
      "source": [
        "# caer mas del 40% en 30 dias\n",
        "mu30 = 30*mu\n",
        "sigma30 = (30**0.5) * sigma\n",
        "print('La probabilidad de caer más del 12% en 30 días es ', norm.cdf(-0.12, mu220, sigma220))"
      ],
      "execution_count": null,
      "outputs": [
        {
          "output_type": "stream",
          "text": [
            "La probabilidad de caer más del 12% en 30 días es  0.07674365258613194\n"
          ],
          "name": "stdout"
        }
      ]
    },
    {
      "cell_type": "code",
      "metadata": {
        "id": "Vjr51u7BxuKM",
        "colab": {
          "base_uri": "https://localhost:8080/",
          "height": 34
        },
        "outputId": "c6989b6f-c165-449b-8807-e8e7cf9df090"
      },
      "source": [
        "# Calcular valor en riesgo (VaR)\n",
        "# es una técnica estadística para medir el riesgo financiero de una inversión. Indica la probabilidad (normalmente 1% o 5%)...\n",
        "# de sufrir una determinada pérdida durante un periodo de tiempo  https://economipedia.com/definiciones/valor-en-riesgo-var.html\n",
        "# Value at risk(VaR)\n",
        "VaR = norm.ppf(0.05, mu, sigma)\n",
        "print('Single day value at risk is', VaR)"
      ],
      "execution_count": null,
      "outputs": [
        {
          "output_type": "stream",
          "text": [
            "Single day value at risk is -0.022523362407065\n"
          ],
          "name": "stdout"
        }
      ]
    },
    {
      "cell_type": "code",
      "metadata": {
        "id": "uCphIhyFxxfm",
        "colab": {
          "base_uri": "https://localhost:8080/",
          "height": 51
        },
        "outputId": "bdf60760-6c83-43df-f35e-2821b596cab6"
      },
      "source": [
        "# Quatile = cuartil\n",
        "# 5% quantile\n",
        "print('5% quantile ', norm.ppf(0.05, mu, sigma))\n",
        "# 95% quantile\n",
        "print('95% quantile ', norm.ppf(0.95, mu, sigma))"
      ],
      "execution_count": null,
      "outputs": [
        {
          "output_type": "stream",
          "text": [
            "5% quantile  -0.022523362407065\n",
            "95% quantile  0.024163825379311034\n"
          ],
          "name": "stdout"
        }
      ]
    },
    {
      "cell_type": "code",
      "metadata": {
        "id": "utD395PVyWBr",
        "colab": {
          "base_uri": "https://localhost:8080/",
          "height": 51
        },
        "outputId": "8bf9e3a7-15fd-49aa-9878-713cc0126d2a"
      },
      "source": [
        "# This is your turn to calcuate the 25% and 75% Quantile of the return\n",
        "# 25% quantile\n",
        "q25 = norm.ppf(0.25, mu, sigma)\n",
        "print('25% quantile ', q25)\n",
        "# 75% quantile\n",
        "q75 = norm.ppf(0.75, mu, sigma) \n",
        "print('75% quantile ', q75)"
      ],
      "execution_count": null,
      "outputs": [
        {
          "output_type": "stream",
          "text": [
            "25% quantile  -0.008752057838414963\n",
            "75% quantile  0.010392520810661006\n"
          ],
          "name": "stdout"
        }
      ]
    }
  ]
}