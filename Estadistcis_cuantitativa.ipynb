{
  "nbformat": 4,
  "nbformat_minor": 0,
  "metadata": {
    "colab": {
      "name": "Estadistcis-cuantitativa.ipynb",
      "private_outputs": true,
      "provenance": [],
      "collapsed_sections": [],
      "include_colab_link": true
    },
    "kernelspec": {
      "name": "python3",
      "display_name": "Python 3"
    },
    "language_info": {
      "name": "python"
    }
  },
  "cells": [
    {
      "cell_type": "markdown",
      "metadata": {
        "id": "view-in-github",
        "colab_type": "text"
      },
      "source": [
        "<a href=\"https://colab.research.google.com/github/WuilsonEstacio/github-para-estadistica/blob/main/Estadistcis_cuantitativa.ipynb\" target=\"_parent\"><img src=\"https://colab.research.google.com/assets/colab-badge.svg\" alt=\"Open In Colab\"/></a>"
      ]
    },
    {
      "cell_type": "markdown",
      "metadata": {
        "id": "KHnsQtRkB1vH"
      },
      "source": [
        "Basic estadistic\n",
        "\n",
        "\n",
        "N = Tamaño de la población estudiada \n",
        "n = Tamaño de la muestra (parte de la población) \n",
        "\n",
        "$\\textbf{Frecuencia absoluta}$ $(f_{i})$  indica el número de veces que se repite un atributo.\n",
        "\n",
        "\n",
        "n = $\\sum (f_{i})$ \n",
        "\n",
        "\n",
        "$\\textbf{Frecuencia relativa}$ $(h_{i})$ es la proporción de datos que se encuentra en una clase, se obtiene \u0016\n",
        "dividiendo la frecuencia absoluta de la clase por el tamaño de la muestra.\n",
        "$(h_{i})= \\dfrac{f_{i}}{n}$, $(h_{i}) = \\sum 1$ \n",
        "\n",
        "$\\textbf{Frecuencia absoluta acumulada}$ $(F_{i})$ indica la cantidad de datos que se encuentran hasta cierta clase.\n",
        "$(F_{i}) = \\sum F_{i}$ \n",
        "\n",
        "$\\textbf{Frecuencia relativa acumulada}$ $(H_{i})$ es la proporción de datos acumulados que se ²/ ³\u0016\n",
        "encuentran hasta cierta clase.\n",
        "$(H_{i}) = \\sum h_{j}$ \n",
        "\n",
        "Amplitud del intervalo o amplitud de la clase (a)\n",
        "$a=\\dfrac{R}{m}$  m es el número de grupos en que es posible dividir los intervalores de la variable\n",
        "\n",
        "$m = 1+3.3log(n)$"
      ]
    },
    {
      "cell_type": "markdown",
      "metadata": {
        "id": "2vdsR5KrCSK3"
      },
      "source": [
        "# Ejemplo\n",
        "\n",
        "Los siguientes datos corresponden a las notas obtenidas por 100 alumnos en un curso de Estadística"
      ]
    },
    {
      "cell_type": "code",
      "metadata": {
        "id": "K2u33VxcB2AC"
      },
      "source": [
        "#Los siguientes datos corresponden a las notas obtenidas por alumnos en un curso de Estadística\n",
        "import numpy as np\n",
        "import pandas as pd\n",
        "import math  as m\n",
        "import matplotlib.pyplot as plt\n",
        "import matplotlib\n",
        "import seaborn as sns"
      ],
      "execution_count": null,
      "outputs": []
    },
    {
      "cell_type": "code",
      "metadata": {
        "id": "s0TYDO0vB2F-"
      },
      "source": [
        " A = [100,87,54,82,93,47,40,53,88,58,\n",
        "      84,65,57,66,25,70,85,36,61,34,\n",
        "      33,33,100,69,77,88,63,17,42,55,\n",
        "      98,70,68,70,65,70,84,52,60,54,\n",
        "      57,47,57,86,25,66,40,100,32,39,\n",
        "      90,83,64,95,85,100,67,60,42,65,\n",
        "      82,85,62,72,65,76,23,96,30,45,\n",
        "      77,55,100,80,55,52,85,68,53,82,\n",
        "      55,51,47,47,64,75,65,60,45,75,\n",
        "      62,93,98,58,95,83,33,70,51,60,]"
      ],
      "execution_count": null,
      "outputs": []
    },
    {
      "cell_type": "code",
      "metadata": {
        "id": "BImC1Ulh-tQp"
      },
      "source": [
        "A.sort()"
      ],
      "execution_count": null,
      "outputs": []
    },
    {
      "cell_type": "code",
      "metadata": {
        "id": "PpPKljDOvO-B"
      },
      "source": [
        "X = np.array(A)\n",
        "X.sort()\n",
        "X"
      ],
      "execution_count": null,
      "outputs": []
    },
    {
      "cell_type": "code",
      "metadata": {
        "id": "AnMQzjrCB2KA"
      },
      "source": [
        "N= len(X) # cuneta el numero de elementos de A\n",
        "print('N =', N)\n",
        "x_max = np.max(X)\n",
        "print('maximo  :', x_max)\n",
        "x_min = np.min(X)\n",
        "print('minimo  :', x_min)"
      ],
      "execution_count": null,
      "outputs": []
    },
    {
      "cell_type": "code",
      "metadata": {
        "id": "9qVw2NE5JkPy"
      },
      "source": [
        "Rango = x_max - x_min\n",
        "print(Rango)"
      ],
      "execution_count": null,
      "outputs": []
    },
    {
      "cell_type": "code",
      "metadata": {
        "id": "_j2yEKK3OJyB"
      },
      "source": [
        "import math  as m\n",
        "m=  round(1+3.3 * m.log(N))\n",
        "print('m =', m)\n",
        "\n",
        "a = Rango//m\n",
        "print('a =', a)"
      ],
      "execution_count": null,
      "outputs": []
    },
    {
      "cell_type": "code",
      "metadata": {
        "id": "lG2cfhFHLs0q"
      },
      "source": [
        "# tabla de frecuencia de clases de pasajeros\n",
        "fi = pd.value_counts(A)\n",
        "# sum(fi)\n",
        "# fi"
      ],
      "execution_count": null,
      "outputs": []
    },
    {
      "cell_type": "code",
      "metadata": {
        "id": "bjIM4MK75mxF"
      },
      "source": [
        "Fi = np.cumsum(fi) # función de suma acumulada cumsum\n",
        "# sum(Fi)\n",
        "# Fi"
      ],
      "execution_count": null,
      "outputs": []
    },
    {
      "cell_type": "code",
      "metadata": {
        "id": "gNnCRJ_OsThG"
      },
      "source": [
        "hi= fi/N\n",
        "# sum(hi)\n",
        "# hi"
      ],
      "execution_count": null,
      "outputs": []
    },
    {
      "cell_type": "code",
      "metadata": {
        "id": "tGX9DTyG6-mQ"
      },
      "source": [
        "Hi = np.cumsum(hi)\n",
        "# sum(Hi)\n",
        "# Hi"
      ],
      "execution_count": null,
      "outputs": []
    },
    {
      "cell_type": "code",
      "metadata": {
        "id": "4nGN_EM-xk3P"
      },
      "source": [
        "tabla = pd.DataFrame(list(zip(X, fi, hi, Fi, Hi )), columns=['x','fi', 'hi','Fi', 'Hi'] )\n",
        "tabla"
      ],
      "execution_count": null,
      "outputs": []
    },
    {
      "cell_type": "code",
      "metadata": {
        "id": "VUV-V7InL54d"
      },
      "source": [
        "\n",
        "# Gráfico de barras de pasajeros del Titanic\n",
        "plot = pd.value_counts(A).plot(kind='bar', title='Notas ontenidas por Alumnos de un curso', xlabel ='Alumnos', ylabel= 'Notas')\n"
      ],
      "execution_count": null,
      "outputs": []
    },
    {
      "cell_type": "code",
      "metadata": {
        "id": "_qydkRlTNfmP"
      },
      "source": [
        "# gráfico de barras de frecuencias relativas.\n",
        "plot = (100 * pd.value_counts(A).value_counts() / len(A)).plot(kind='bar', title='frecuencia de nota de alumnos %', ylabel ='Alumnos', xlabel= 'Notas' )"
      ],
      "execution_count": null,
      "outputs": []
    },
    {
      "cell_type": "code",
      "metadata": {
        "id": "1dSgOy-lOQ1n"
      },
      "source": [
        "# Gráfico de tarta de Notas de alumnos\n",
        "plot = pd.value_counts(A).value_counts().plot(kind='pie', autopct = '%1.1f%%', colors = sns.color_palette('hls',5), \n",
        "                                            figsize=(5, 5), startangle= 90 ,\n",
        "                                            title='Notas de alumnos')"
      ],
      "execution_count": null,
      "outputs": []
    },
    {
      "cell_type": "code",
      "metadata": {
        "id": "PELPiZF1O7nc"
      },
      "source": [
        "# grafico de barras con sns\n",
        "plt = sns.barplot(x=hi, y=fi)\n",
        "plt.set(xlabel = 'Dias de la semana', Xlabel ='hi', Ylabel ='fi')"
      ],
      "execution_count": null,
      "outputs": []
    }
  ]
}