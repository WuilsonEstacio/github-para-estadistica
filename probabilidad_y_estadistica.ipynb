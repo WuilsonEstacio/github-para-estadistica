{
  "nbformat": 4,
  "nbformat_minor": 0,
  "metadata": {
    "colab": {
      "name": "probabilidad y estadistica.ipynb",
      "provenance": [],
      "collapsed_sections": [],
      "mount_file_id": "1DZ0Ufb3sMr4xmWr4kYD2P56koxFjv6h8",
      "authorship_tag": "ABX9TyPyBSlEV2b541T+sjwLOrED",
      "include_colab_link": true
    },
    "kernelspec": {
      "name": "python3",
      "display_name": "Python 3"
    }
  },
  "cells": [
    {
      "cell_type": "markdown",
      "metadata": {
        "id": "view-in-github",
        "colab_type": "text"
      },
      "source": [
        "<a href=\"https://colab.research.google.com/github/WuilsonEstacio/github-para-estadistica/blob/main/probabilidad_y_estadistica.ipynb\" target=\"_parent\"><img src=\"https://colab.research.google.com/assets/colab-badge.svg\" alt=\"Open In Colab\"/></a>"
      ]
    },
    {
      "cell_type": "code",
      "metadata": {
        "id": "i-Uoq1SVjIHs",
        "colab": {
          "base_uri": "https://localhost:8080/",
          "height": 51
        },
        "outputId": "c871551f-0896-4cdd-afeb-c1cca4dd0b20"
      },
      "source": [
        "# media de valores\n",
        "def escribe_media():\n",
        "    media = (a + b) / 2\n",
        "    print(f\"La media de {a} y {b} es: {media}\")\n",
        "    return\n",
        "    \n",
        "a = 3\n",
        "b = 5\n",
        "escribe_media()\n",
        "print(\"Programa terminado\")"
      ],
      "execution_count": null,
      "outputs": [
        {
          "output_type": "stream",
          "text": [
            "La media de 3 y 5 es: 4.0\n",
            "Programa terminado\n"
          ],
          "name": "stdout"
        }
      ]
    },
    {
      "cell_type": "code",
      "metadata": {
        "id": "wyH4U35nnYdR",
        "colab": {
          "base_uri": "https://localhost:8080/",
          "height": 34
        },
        "outputId": "3627a50c-f532-459b-b141-0a6f7f8c7251"
      },
      "source": [
        "i= [1,2,3,4,5,6,7,8,9,14]\n",
        "print(f\"La media de {i} es:= {sum((i))/len((i))}\")"
      ],
      "execution_count": null,
      "outputs": [
        {
          "output_type": "stream",
          "text": [
            "La media de [1, 2, 3, 4, 5, 6, 7, 8, 9, 14] es:= 5.9\n"
          ],
          "name": "stdout"
        }
      ]
    },
    {
      "cell_type": "code",
      "metadata": {
        "id": "_bTTwSwvvnPZ",
        "colab": {
          "base_uri": "https://localhost:8080/",
          "height": 85
        },
        "outputId": "860278ef-2e26-40ff-e28d-8dd757c434b9"
      },
      "source": [
        "# desviacion media\n",
        "def calcula_media_desviacion(*args):\n",
        "# Las tres primeras instrucciones de la función calculan la media aritmética de los valores recibido\n",
        "    total = 0                        \n",
        "    for i in args:\n",
        "        total += i\n",
        "    media = total / len(args)\n",
        " # las tres siguientes instrucciones de la función calculan la desviación típica de los valores recibidos\n",
        "    total = 0                       \n",
        "    for i in args:\n",
        "        total += (i - media) ** 2\n",
        "    desviacion = (total / len(args)) ** 0.5\n",
        "    return media, desviacion          # return indica el final de la función pero también los valores que devuelve la función\n",
        "# se crean las variables\n",
        "a, b, c, d = 7, 5, 10, 12  \n",
        "#se guardan las variables           \n",
        "media, desviacion_tipica = calcula_media_desviacion(a, b, c, d)      \n",
        "print(f\"Datos: {a} {b} {c} {d}\")\n",
        "print(f\"Media: {media}\")\n",
        "print(f\"Desviación típica: {desviacion_tipica}\")\n",
        "print(\"Programa terminado\")"
      ],
      "execution_count": null,
      "outputs": [
        {
          "output_type": "stream",
          "text": [
            "Datos: 7 5 10 12\n",
            "Media: 8.5\n",
            "Desviación típica: 2.692582403567252\n",
            "Programa terminado\n"
          ],
          "name": "stdout"
        }
      ]
    },
    {
      "cell_type": "code",
      "metadata": {
        "id": "WhSgpYhtDnRt"
      },
      "source": [
        "\n",
        "# Ejemplos de estadistica descriptiva con python\n",
        "\n",
        "import numpy as np # importando numpy\n",
        "from scipy import stats # importando scipy.stats\n",
        "import pandas as pd # importando pandas\n",
        "\n",
        "np.random.seed(2131982) # para poder replicar el random"
      ],
      "execution_count": null,
      "outputs": []
    },
    {
      "cell_type": "code",
      "metadata": {
        "id": "RcUQhWYeDwGf",
        "colab": {
          "base_uri": "https://localhost:8080/",
          "height": 102
        },
        "outputId": "ce7e4238-afb5-469c-d930-433fbd8911ea"
      },
      "source": [
        "datos = np.random.randn(5, 4) # datos normalmente distribuidos\n",
        "datos"
      ],
      "execution_count": null,
      "outputs": [
        {
          "output_type": "execute_result",
          "data": {
            "text/plain": [
              "array([[ 0.46038022, -1.08942528, -0.62681496, -0.63329028],\n",
              "       [-0.1074033 , -0.88138082, -0.34466623, -0.28320214],\n",
              "       [ 0.94051171,  0.86693793,  1.20947882, -0.16894118],\n",
              "       [-0.12790177, -0.58099931, -0.46188426, -0.18148302],\n",
              "       [-0.76959435, -1.37414587,  1.37696874, -0.18040537]])"
            ]
          },
          "metadata": {
            "tags": []
          },
          "execution_count": 47
        }
      ]
    },
    {
      "cell_type": "code",
      "metadata": {
        "id": "XFhdI1kyD3nS",
        "colab": {
          "base_uri": "https://localhost:8080/",
          "height": 34
        },
        "outputId": "a3fe3273-9081-4155-86ea-8e6f669a0e11"
      },
      "source": [
        "# media arítmetica\n",
        "datos.mean() # Calcula la media aritmetica de"
      ],
      "execution_count": null,
      "outputs": [
        {
          "output_type": "execute_result",
          "data": {
            "text/plain": [
              "-0.14786303590303568"
            ]
          },
          "metadata": {
            "tags": []
          },
          "execution_count": 48
        }
      ]
    },
    {
      "cell_type": "code",
      "metadata": {
        "id": "CW4yEwK48UJn",
        "colab": {
          "base_uri": "https://localhost:8080/",
          "height": 297
        },
        "outputId": "bc665838-297a-4a84-daba-4842f9c759ea"
      },
      "source": [
        "import numpy as np\n",
        "import matplotlib.pyplot as plt\n",
        "import matplotlib.cbook as cbook\n",
        "\n",
        "# Load a numpy record array from yahoo csv data with fields date, open, close,\n",
        "# volume, adj_close from the mpl-data/example directory. The record array\n",
        "# stores the date as an np.datetime64 with a day unit ('D') in the date column.\n",
        "with cbook.get_sample_data('goog.npz') as datafile:\n",
        "    price_data = np.load(datafile)['price_data'].view(np.recarray)\n",
        "price_data = price_data[-250:]  # get the most recent 250 trading days\n",
        "\n",
        "delta1 = np.diff(price_data.adj_close) / price_data.adj_close[:-1]\n",
        "\n",
        "# Marker size in units of points^2\n",
        "volume = (15 * price_data.volume[:-2] / price_data.volume[0])**2\n",
        "close = 0.003 * price_data.close[:-2] / 0.003 * price_data.open[:-2]\n",
        "\n",
        "fig, ax = plt.subplots()\n",
        "ax.scatter(delta1[:-1], delta1[1:], c=close, s=volume, alpha=0.5)\n",
        "\n",
        "ax.set_xlabel(r'$\\Delta_i$', fontsize=15)\n",
        "ax.set_ylabel(r'$\\Delta_{i+1}$', fontsize=15)\n",
        "ax.set_title('Volume and percent change')\n",
        "\n",
        "ax.grid(True)\n",
        "fig.tight_layout()\n",
        "\n",
        "plt.show()"
      ],
      "execution_count": null,
      "outputs": [
        {
          "output_type": "display_data",
          "data": {
            "image/png": "[encoded data removed]",
            "text/plain": [
              "<Figure size 432x288 with 1 Axes>"
            ]
          },
          "metadata": {
            "tags": []
          }
        }
      ]
    }
  ]
}