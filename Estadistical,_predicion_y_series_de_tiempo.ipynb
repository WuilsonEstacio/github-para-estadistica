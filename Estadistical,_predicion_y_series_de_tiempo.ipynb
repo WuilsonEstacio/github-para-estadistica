{
  "nbformat": 4,
  "nbformat_minor": 0,
  "metadata": {
    "colab": {
      "name": "Estadistical, predicion y series de tiempo.ipynb",
      "provenance": [],
      "collapsed_sections": [],
      "include_colab_link": true
    },
    "kernelspec": {
      "name": "python3",
      "display_name": "Python 3"
    }
  },
  "cells": [
    {
      "cell_type": "markdown",
      "metadata": {
        "id": "view-in-github",
        "colab_type": "text"
      },
      "source": [
        "<a href=\"https://colab.research.google.com/github/WuilsonEstacio/github-para-estadistica/blob/main/Estadistical%2C_predicion_y_series_de_tiempo.ipynb\" target=\"_parent\"><img src=\"https://colab.research.google.com/assets/colab-badge.svg\" alt=\"Open In Colab\"/></a>"
      ]
    },
    {
      "cell_type": "code",
      "metadata": {
        "id": "BLLE7s_HPyy6"
      },
      "source": [
        "import pandas as pd\n"
      ],
      "execution_count": null,
      "outputs": []
    },
    {
      "cell_type": "code",
      "metadata": {
        "id": "jMoV7h9dcbRD"
      },
      "source": [
        "fb = pd.read_csv('/content/facebook.csv',index_col = 0)"
      ],
      "execution_count": null,
      "outputs": []
    },
    {
      "cell_type": "code",
      "metadata": {
        "id": "CH6gw9Ylc0kH",
        "colab": {
          "base_uri": "https://localhost:8080/",
          "height": 272
        },
        "outputId": "106cb958-670d-42eb-bc61-156c52352c60"
      },
      "source": [
        "print(fb)"
      ],
      "execution_count": null,
      "outputs": [
        {
          "output_type": "stream",
          "text": [
            "                  Open        High  ...   Adj Close    Volume\n",
            "Date                                ...                      \n",
            "2014-12-31   20.400000   20.510000  ...   19.459270   4157500\n",
            "2015-01-02   20.129999   20.280001  ...   19.536913   2842000\n",
            "2015-01-05   20.129999   20.190001  ...   19.206934   4948800\n",
            "2015-01-06   19.820000   19.840000  ...   18.624611   4944100\n",
            "2015-01-07   19.330000   19.500000  ...   18.576082   8045200\n",
            "...                ...         ...  ...         ...       ...\n",
            "2018-01-30  241.110001  246.419998  ...  242.720001  14270800\n",
            "2018-01-31  245.770004  249.270004  ...  245.800003  11964400\n",
            "2018-02-01  238.520004  246.899994  ...  240.500000  12980600\n",
            "2018-02-02  237.000000  237.970001  ...  233.520004  17961600\n",
            "2018-02-05  227.000000  233.229996  ...  213.699997  28869000\n",
            "\n",
            "[780 rows x 6 columns]\n"
          ],
          "name": "stdout"
        }
      ]
    },
    {
      "cell_type": "code",
      "metadata": {
        "id": "OwSGpjhWdAYX",
        "colab": {
          "base_uri": "https://localhost:8080/",
          "height": 272
        },
        "outputId": "d6cc80b2-563a-42ec-e30a-624fc081c964"
      },
      "source": [
        "ms = pd.read_csv('/content/microsoft.csv',parse_dates=False,index_col = 0 )\n",
        "print(ms)"
      ],
      "execution_count": null,
      "outputs": [
        {
          "output_type": "stream",
          "text": [
            "                 Open       High        Low      Close  Adj Close    Volume\n",
            "Date                                                                       \n",
            "2014-12-31  46.730000  47.439999  46.450001  46.450001  42.848763  21552500\n",
            "2015-01-02  46.660000  47.419998  46.540001  46.759998  43.134731  27913900\n",
            "2015-01-05  46.369999  46.730000  46.250000  46.330002  42.738068  39673900\n",
            "2015-01-06  46.380001  46.750000  45.540001  45.650002  42.110783  36447900\n",
            "2015-01-07  45.980000  46.459999  45.490002  46.230000  42.645817  29114100\n",
            "...               ...        ...        ...        ...        ...       ...\n",
            "2018-01-30  93.300003  93.660004  92.099998  92.739998  92.306389  38635100\n",
            "2018-01-31  93.750000  95.400002  93.510002  95.010002  94.565781  48756300\n",
            "2018-02-01  94.790001  96.070000  93.580002  94.260002  93.819290  47227900\n",
            "2018-02-02  93.639999  93.970001  91.500000  91.779999  91.350883  47867800\n",
            "2018-02-05  90.559998  93.239998  88.000000  88.000000  87.588554  51031500\n",
            "\n",
            "[780 rows x 6 columns]\n"
          ],
          "name": "stdout"
        }
      ]
    },
    {
      "cell_type": "code",
      "metadata": {
        "id": "9SUV5xXNdLtF",
        "colab": {
          "base_uri": "https://localhost:8080/",
          "height": 34
        },
        "outputId": "ee3ecf44-7e05-4589-dff3-6f5128aa949e"
      },
      "source": [
        "print(ms.iloc[0, 0])"
      ],
      "execution_count": null,
      "outputs": [
        {
          "output_type": "stream",
          "text": [
            "46.73\n"
          ],
          "name": "stdout"
        }
      ]
    },
    {
      "cell_type": "code",
      "metadata": {
        "id": "l4ZOUF5zdRZ1",
        "colab": {
          "base_uri": "https://localhost:8080/",
          "height": 34
        },
        "outputId": "7c8cf937-7d7f-448b-9b23-160e508f270c"
      },
      "source": [
        "print(fb.iloc[0, 0])"
      ],
      "execution_count": null,
      "outputs": [
        {
          "output_type": "stream",
          "text": [
            "20.4\n"
          ],
          "name": "stdout"
        }
      ]
    },
    {
      "cell_type": "code",
      "metadata": {
        "id": "cU8ZGbKXdpT1",
        "colab": {
          "base_uri": "https://localhost:8080/",
          "height": 235
        },
        "outputId": "7edb9ddb-efab-4b11-a008-f84640705d4c"
      },
      "source": [
        "ms.head()"
      ],
      "execution_count": null,
      "outputs": [
        {
          "output_type": "execute_result",
          "data": {
            "text/html": [
              "<div>\n",
              "<style scoped>\n",
              "    .dataframe tbody tr th:only-of-type {\n",
              "        vertical-align: middle;\n",
              "    }\n",
              "\n",
              "    .dataframe tbody tr th {\n",
              "        vertical-align: top;\n",
              "    }\n",
              "\n",
              "    .dataframe thead th {\n",
              "        text-align: right;\n",
              "    }\n",
              "</style>\n",
              "<table border=\"1\" class=\"dataframe\">\n",
              "  <thead>\n",
              "    <tr style=\"text-align: right;\">\n",
              "      <th></th>\n",
              "      <th>Open</th>\n",
              "      <th>High</th>\n",
              "      <th>Low</th>\n",
              "      <th>Close</th>\n",
              "      <th>Adj Close</th>\n",
              "      <th>Volume</th>\n",
              "    </tr>\n",
              "    <tr>\n",
              "      <th>Date</th>\n",
              "      <th></th>\n",
              "      <th></th>\n",
              "      <th></th>\n",
              "      <th></th>\n",
              "      <th></th>\n",
              "      <th></th>\n",
              "    </tr>\n",
              "  </thead>\n",
              "  <tbody>\n",
              "    <tr>\n",
              "      <th>2014-12-31</th>\n",
              "      <td>46.730000</td>\n",
              "      <td>47.439999</td>\n",
              "      <td>46.450001</td>\n",
              "      <td>46.450001</td>\n",
              "      <td>42.848763</td>\n",
              "      <td>21552500</td>\n",
              "    </tr>\n",
              "    <tr>\n",
              "      <th>2015-01-02</th>\n",
              "      <td>46.660000</td>\n",
              "      <td>47.419998</td>\n",
              "      <td>46.540001</td>\n",
              "      <td>46.759998</td>\n",
              "      <td>43.134731</td>\n",
              "      <td>27913900</td>\n",
              "    </tr>\n",
              "    <tr>\n",
              "      <th>2015-01-05</th>\n",
              "      <td>46.369999</td>\n",
              "      <td>46.730000</td>\n",
              "      <td>46.250000</td>\n",
              "      <td>46.330002</td>\n",
              "      <td>42.738068</td>\n",
              "      <td>39673900</td>\n",
              "    </tr>\n",
              "    <tr>\n",
              "      <th>2015-01-06</th>\n",
              "      <td>46.380001</td>\n",
              "      <td>46.750000</td>\n",
              "      <td>45.540001</td>\n",
              "      <td>45.650002</td>\n",
              "      <td>42.110783</td>\n",
              "      <td>36447900</td>\n",
              "    </tr>\n",
              "    <tr>\n",
              "      <th>2015-01-07</th>\n",
              "      <td>45.980000</td>\n",
              "      <td>46.459999</td>\n",
              "      <td>45.490002</td>\n",
              "      <td>46.230000</td>\n",
              "      <td>42.645817</td>\n",
              "      <td>29114100</td>\n",
              "    </tr>\n",
              "  </tbody>\n",
              "</table>\n",
              "</div>"
            ],
            "text/plain": [
              "                 Open       High        Low      Close  Adj Close    Volume\n",
              "Date                                                                       \n",
              "2014-12-31  46.730000  47.439999  46.450001  46.450001  42.848763  21552500\n",
              "2015-01-02  46.660000  47.419998  46.540001  46.759998  43.134731  27913900\n",
              "2015-01-05  46.369999  46.730000  46.250000  46.330002  42.738068  39673900\n",
              "2015-01-06  46.380001  46.750000  45.540001  45.650002  42.110783  36447900\n",
              "2015-01-07  45.980000  46.459999  45.490002  46.230000  42.645817  29114100"
            ]
          },
          "metadata": {
            "tags": []
          },
          "execution_count": 80
        }
      ]
    },
    {
      "cell_type": "code",
      "metadata": {
        "id": "qUkLRqwzd8n7",
        "colab": {
          "base_uri": "https://localhost:8080/",
          "height": 235
        },
        "outputId": "1655d036-243d-4005-fb40-4f4204c01453"
      },
      "source": [
        "fb.head()"
      ],
      "execution_count": null,
      "outputs": [
        {
          "output_type": "execute_result",
          "data": {
            "text/html": [
              "<div>\n",
              "<style scoped>\n",
              "    .dataframe tbody tr th:only-of-type {\n",
              "        vertical-align: middle;\n",
              "    }\n",
              "\n",
              "    .dataframe tbody tr th {\n",
              "        vertical-align: top;\n",
              "    }\n",
              "\n",
              "    .dataframe thead th {\n",
              "        text-align: right;\n",
              "    }\n",
              "</style>\n",
              "<table border=\"1\" class=\"dataframe\">\n",
              "  <thead>\n",
              "    <tr style=\"text-align: right;\">\n",
              "      <th></th>\n",
              "      <th>Open</th>\n",
              "      <th>High</th>\n",
              "      <th>Low</th>\n",
              "      <th>Close</th>\n",
              "      <th>Adj Close</th>\n",
              "      <th>Volume</th>\n",
              "    </tr>\n",
              "    <tr>\n",
              "      <th>Date</th>\n",
              "      <th></th>\n",
              "      <th></th>\n",
              "      <th></th>\n",
              "      <th></th>\n",
              "      <th></th>\n",
              "      <th></th>\n",
              "    </tr>\n",
              "  </thead>\n",
              "  <tbody>\n",
              "    <tr>\n",
              "      <th>2014-12-31</th>\n",
              "      <td>20.400000</td>\n",
              "      <td>20.510000</td>\n",
              "      <td>19.990000</td>\n",
              "      <td>20.049999</td>\n",
              "      <td>19.459270</td>\n",
              "      <td>4157500</td>\n",
              "    </tr>\n",
              "    <tr>\n",
              "      <th>2015-01-02</th>\n",
              "      <td>20.129999</td>\n",
              "      <td>20.280001</td>\n",
              "      <td>19.809999</td>\n",
              "      <td>20.129999</td>\n",
              "      <td>19.536913</td>\n",
              "      <td>2842000</td>\n",
              "    </tr>\n",
              "    <tr>\n",
              "      <th>2015-01-05</th>\n",
              "      <td>20.129999</td>\n",
              "      <td>20.190001</td>\n",
              "      <td>19.700001</td>\n",
              "      <td>19.790001</td>\n",
              "      <td>19.206934</td>\n",
              "      <td>4948800</td>\n",
              "    </tr>\n",
              "    <tr>\n",
              "      <th>2015-01-06</th>\n",
              "      <td>19.820000</td>\n",
              "      <td>19.840000</td>\n",
              "      <td>19.170000</td>\n",
              "      <td>19.190001</td>\n",
              "      <td>18.624611</td>\n",
              "      <td>4944100</td>\n",
              "    </tr>\n",
              "    <tr>\n",
              "      <th>2015-01-07</th>\n",
              "      <td>19.330000</td>\n",
              "      <td>19.500000</td>\n",
              "      <td>19.080000</td>\n",
              "      <td>19.139999</td>\n",
              "      <td>18.576082</td>\n",
              "      <td>8045200</td>\n",
              "    </tr>\n",
              "  </tbody>\n",
              "</table>\n",
              "</div>"
            ],
            "text/plain": [
              "                 Open       High        Low      Close  Adj Close   Volume\n",
              "Date                                                                      \n",
              "2014-12-31  20.400000  20.510000  19.990000  20.049999  19.459270  4157500\n",
              "2015-01-02  20.129999  20.280001  19.809999  20.129999  19.536913  2842000\n",
              "2015-01-05  20.129999  20.190001  19.700001  19.790001  19.206934  4948800\n",
              "2015-01-06  19.820000  19.840000  19.170000  19.190001  18.624611  4944100\n",
              "2015-01-07  19.330000  19.500000  19.080000  19.139999  18.576082  8045200"
            ]
          },
          "metadata": {
            "tags": []
          },
          "execution_count": 81
        }
      ]
    },
    {
      "cell_type": "code",
      "metadata": {
        "id": "EZsaNsECeDe4",
        "colab": {
          "base_uri": "https://localhost:8080/",
          "height": 34
        },
        "outputId": "27cd244a-ab4b-4351-9654-30c3378185b4"
      },
      "source": [
        "print(ms.shape)"
      ],
      "execution_count": null,
      "outputs": [
        {
          "output_type": "stream",
          "text": [
            "(780, 6)\n"
          ],
          "name": "stdout"
        }
      ]
    },
    {
      "cell_type": "code",
      "metadata": {
        "id": "r67EMcV9eI2t",
        "colab": {
          "base_uri": "https://localhost:8080/",
          "height": 34
        },
        "outputId": "e65a6196-328d-46f4-a79a-3334e655f94c"
      },
      "source": [
        "print(fb.shape)"
      ],
      "execution_count": null,
      "outputs": [
        {
          "output_type": "stream",
          "text": [
            "(780, 6)\n"
          ],
          "name": "stdout"
        }
      ]
    },
    {
      "cell_type": "code",
      "metadata": {
        "id": "tH13xwPTeNRJ",
        "colab": {
          "base_uri": "https://localhost:8080/",
          "height": 170
        },
        "outputId": "59b3165a-eea9-4a63-81cc-397ba1a40678"
      },
      "source": [
        "print(fb.describe())"
      ],
      "execution_count": null,
      "outputs": [
        {
          "output_type": "stream",
          "text": [
            "             Open        High         Low       Close   Adj Close        Volume\n",
            "count  780.000000  780.000000  780.000000  780.000000  780.000000  7.800000e+02\n",
            "mean    80.212705   81.285654   79.022397   80.264897   79.914215  1.204453e+07\n",
            "std     64.226121   65.048907   63.190963   64.198375   64.327846  8.221848e+06\n",
            "min     19.250000   19.500000   18.940001   19.139999   18.576082  1.311200e+06\n",
            "25%     25.525000   26.085000   24.845000   25.475000   25.134513  7.215200e+06\n",
            "50%     53.379999   54.034999   52.930000   53.420000   53.035403  9.728700e+06\n",
            "75%    113.322502  115.779999  110.297499  113.702501  113.261238  1.408885e+07\n",
            "max    245.770004  249.270004  244.449997  246.850006  246.850006  9.232320e+07\n"
          ],
          "name": "stdout"
        }
      ]
    },
    {
      "cell_type": "code",
      "metadata": {
        "id": "w3HF6baIeXtH",
        "colab": {
          "base_uri": "https://localhost:8080/",
          "height": 170
        },
        "outputId": "a7667cb3-b301-4ad0-a96b-7b50d376a630"
      },
      "source": [
        "print(ms.describe())"
      ],
      "execution_count": null,
      "outputs": [
        {
          "output_type": "stream",
          "text": [
            "             Open        High         Low       Close   Adj Close        Volume\n",
            "count  780.000000  780.000000  780.000000  780.000000  780.000000  7.800000e+02\n",
            "mean    58.912308   59.372308   58.465000   58.945397   56.931553  2.978900e+07\n",
            "std     12.852040   12.868060   12.802831   12.830350   13.670080  1.522319e+07\n",
            "min     40.340000   40.740002   39.720001   40.290001   37.267815  7.425600e+06\n",
            "25%     47.894998   48.295000   47.535001   47.974998   44.792073  2.096685e+07\n",
            "50%     56.150002   56.640001   55.700001   56.209999   53.775458  2.623125e+07\n",
            "75%     67.892500   68.174997   67.447500   67.740000   66.565508  3.408020e+07\n",
            "max     95.139999   96.070000   93.720001   95.010002   94.565781  1.691640e+08\n"
          ],
          "name": "stdout"
        }
      ]
    },
    {
      "cell_type": "code",
      "metadata": {
        "id": "tpjnPJeweeeU"
      },
      "source": [
        "# select all the price information of Facebook in 2016.\n",
        "fb_2015=fb.loc['2015-01-01':'2015-12-31']"
      ],
      "execution_count": null,
      "outputs": []
    },
    {
      "cell_type": "code",
      "metadata": {
        "id": "qva_kc7VelVd",
        "colab": {
          "base_uri": "https://localhost:8080/",
          "height": 136
        },
        "outputId": "09f8d63b-37e8-4b47-db0f-00f2627ae198"
      },
      "source": [
        "# print the price of Facebook on '2015-03-16'\n",
        "print(fb_2015.loc['2015-03-16'])"
      ],
      "execution_count": null,
      "outputs": [
        {
          "output_type": "stream",
          "text": [
            "Open         2.288000e+01\n",
            "High         2.311000e+01\n",
            "Low          2.273000e+01\n",
            "Close        2.297000e+01\n",
            "Adj Close    2.237908e+01\n",
            "Volume       5.923900e+06\n",
            "Name: 2015-03-16, dtype: float64\n"
          ],
          "name": "stdout"
        }
      ]
    },
    {
      "cell_type": "code",
      "metadata": {
        "id": "qftKwRdJepYO"
      },
      "source": [
        "# select all the price information of Microsoft in 2016\n",
        "ms_2016 = ms.loc['2016-01-01':'2016-12-31']"
      ],
      "execution_count": null,
      "outputs": []
    },
    {
      "cell_type": "code",
      "metadata": {
        "id": "ZW-AnN6-eplt",
        "colab": {
          "base_uri": "https://localhost:8080/",
          "height": 136
        },
        "outputId": "41aa2048-1ed1-4462-f94c-44c79e086621"
      },
      "source": [
        "# print the price of Microsoft on '2016-03-16'\n",
        "print(ms_2016.loc['2016-03-16'])"
      ],
      "execution_count": null,
      "outputs": [
        {
          "output_type": "stream",
          "text": [
            "Open         5.345000e+01\n",
            "High         5.460000e+01\n",
            "Low          5.340000e+01\n",
            "Close        5.435000e+01\n",
            "Adj Close    5.187095e+01\n",
            "Volume       3.169170e+07\n",
            "Name: 2016-03-16, dtype: float64\n"
          ],
          "name": "stdout"
        }
      ]
    },
    {
      "cell_type": "code",
      "metadata": {
        "id": "oBr-8hGvfG5O",
        "colab": {
          "base_uri": "https://localhost:8080/",
          "height": 34
        },
        "outputId": "05843576-ff19-41b9-a4bb-e3061b303c24"
      },
      "source": [
        "# print the opening price of the first row\n",
        "print(fb.iloc[0, 0])"
      ],
      "execution_count": null,
      "outputs": [
        {
          "output_type": "stream",
          "text": [
            "20.4\n"
          ],
          "name": "stdout"
        }
      ]
    },
    {
      "cell_type": "code",
      "metadata": {
        "id": "_vvHti5GfHCd",
        "colab": {
          "base_uri": "https://localhost:8080/",
          "height": 34
        },
        "outputId": "e265037a-fd14-4967-d26a-803370f8d81d"
      },
      "source": [
        "# print the opening price of the last row\n",
        "print(ms.iloc[-1, 0])"
      ],
      "execution_count": null,
      "outputs": [
        {
          "output_type": "stream",
          "text": [
            "90.559998\n"
          ],
          "name": "stdout"
        }
      ]
    },
    {
      "cell_type": "code",
      "metadata": {
        "id": "HXJ2DLL8fHJn",
        "colab": {
          "base_uri": "https://localhost:8080/",
          "height": 450
        },
        "outputId": "547e31fc-c7e1-4b48-d812-4182f8202063"
      },
      "source": [
        "# Plot the stock data using plot() method\n",
        "fb[['Open', 'Low']]"
      ],
      "execution_count": null,
      "outputs": [
        {
          "output_type": "execute_result",
          "data": {
            "text/html": [
              "<div>\n",
              "<style scoped>\n",
              "    .dataframe tbody tr th:only-of-type {\n",
              "        vertical-align: middle;\n",
              "    }\n",
              "\n",
              "    .dataframe tbody tr th {\n",
              "        vertical-align: top;\n",
              "    }\n",
              "\n",
              "    .dataframe thead th {\n",
              "        text-align: right;\n",
              "    }\n",
              "</style>\n",
              "<table border=\"1\" class=\"dataframe\">\n",
              "  <thead>\n",
              "    <tr style=\"text-align: right;\">\n",
              "      <th></th>\n",
              "      <th>Open</th>\n",
              "      <th>Low</th>\n",
              "    </tr>\n",
              "    <tr>\n",
              "      <th>Date</th>\n",
              "      <th></th>\n",
              "      <th></th>\n",
              "    </tr>\n",
              "  </thead>\n",
              "  <tbody>\n",
              "    <tr>\n",
              "      <th>2014-12-31</th>\n",
              "      <td>20.400000</td>\n",
              "      <td>19.990000</td>\n",
              "    </tr>\n",
              "    <tr>\n",
              "      <th>2015-01-02</th>\n",
              "      <td>20.129999</td>\n",
              "      <td>19.809999</td>\n",
              "    </tr>\n",
              "    <tr>\n",
              "      <th>2015-01-05</th>\n",
              "      <td>20.129999</td>\n",
              "      <td>19.700001</td>\n",
              "    </tr>\n",
              "    <tr>\n",
              "      <th>2015-01-06</th>\n",
              "      <td>19.820000</td>\n",
              "      <td>19.170000</td>\n",
              "    </tr>\n",
              "    <tr>\n",
              "      <th>2015-01-07</th>\n",
              "      <td>19.330000</td>\n",
              "      <td>19.080000</td>\n",
              "    </tr>\n",
              "    <tr>\n",
              "      <th>...</th>\n",
              "      <td>...</td>\n",
              "      <td>...</td>\n",
              "    </tr>\n",
              "    <tr>\n",
              "      <th>2018-01-30</th>\n",
              "      <td>241.110001</td>\n",
              "      <td>238.410004</td>\n",
              "    </tr>\n",
              "    <tr>\n",
              "      <th>2018-01-31</th>\n",
              "      <td>245.770004</td>\n",
              "      <td>244.449997</td>\n",
              "    </tr>\n",
              "    <tr>\n",
              "      <th>2018-02-01</th>\n",
              "      <td>238.520004</td>\n",
              "      <td>238.059998</td>\n",
              "    </tr>\n",
              "    <tr>\n",
              "      <th>2018-02-02</th>\n",
              "      <td>237.000000</td>\n",
              "      <td>231.169998</td>\n",
              "    </tr>\n",
              "    <tr>\n",
              "      <th>2018-02-05</th>\n",
              "      <td>227.000000</td>\n",
              "      <td>205.000000</td>\n",
              "    </tr>\n",
              "  </tbody>\n",
              "</table>\n",
              "<p>780 rows × 2 columns</p>\n",
              "</div>"
            ],
            "text/plain": [
              "                  Open         Low\n",
              "Date                              \n",
              "2014-12-31   20.400000   19.990000\n",
              "2015-01-02   20.129999   19.809999\n",
              "2015-01-05   20.129999   19.700001\n",
              "2015-01-06   19.820000   19.170000\n",
              "2015-01-07   19.330000   19.080000\n",
              "...                ...         ...\n",
              "2018-01-30  241.110001  238.410004\n",
              "2018-01-31  245.770004  244.449997\n",
              "2018-02-01  238.520004  238.059998\n",
              "2018-02-02  237.000000  231.169998\n",
              "2018-02-05  227.000000  205.000000\n",
              "\n",
              "[780 rows x 2 columns]"
            ]
          },
          "metadata": {
            "tags": []
          },
          "execution_count": 92
        }
      ]
    },
    {
      "cell_type": "code",
      "metadata": {
        "id": "mVX6tXx2gC9i",
        "colab": {
          "base_uri": "https://localhost:8080/",
          "height": 296
        },
        "outputId": "5fc95c83-02d7-4163-8bee-d157bbe05385"
      },
      "source": [
        "import matplotlib.pyplot as plt\n",
        "# plot only the Close price of 2016 of Microsoft, 1 line \n",
        "ms.loc['2016-01-01':'2016-12-31','Close'].plot()"
      ],
      "execution_count": null,
      "outputs": [
        {
          "output_type": "execute_result",
          "data": {
            "text/plain": [
              "<matplotlib.axes._subplots.AxesSubplot at 0x7f069457f2e8>"
            ]
          },
          "metadata": {
            "tags": []
          },
          "execution_count": 93
        },
        {
          "output_type": "display_data",
          "data": {
            "image/png": "[encoded data removed]",
            "text/plain": [
              "<Figure size 432x288 with 1 Axes>"
            ]
          },
          "metadata": {
            "tags": [],
            "needs_background": "light"
          }
        }
      ]
    },
    {
      "cell_type": "code",
      "metadata": {
        "id": "BfgAvCopk-qG"
      },
      "source": [
        "# Create a new column in the DataFrame (1) - Price difference\n",
        "# Create a new column PriceDiff in the DataFrame fb\n",
        "fb['PriceDiff'] = fb['Close'].shift(-1) - fb['Close']"
      ],
      "execution_count": null,
      "outputs": []
    },
    {
      "cell_type": "code",
      "metadata": {
        "id": "7spI6vsblHAX"
      },
      "source": [
        "#Your turn to create PriceDiff in the DataFrame ms\n",
        "ms['PriceDiff'] = ms['Close'].shift(-1) - ms['Close']"
      ],
      "execution_count": null,
      "outputs": []
    },
    {
      "cell_type": "code",
      "metadata": {
        "id": "2Rr7PChjlOlf",
        "colab": {
          "base_uri": "https://localhost:8080/",
          "height": 34
        },
        "outputId": "3652483d-5597-4b58-a164-1ad2c813e862"
      },
      "source": [
        "# Run this code to display the price difference of Microsoft on 2015-01-05\n",
        "print(ms['PriceDiff'].loc['2015-01-05'])"
      ],
      "execution_count": null,
      "outputs": [
        {
          "output_type": "stream",
          "text": [
            "-0.6799999999999997\n"
          ],
          "name": "stdout"
        }
      ]
    },
    {
      "cell_type": "code",
      "metadata": {
        "id": "TMJKhv83lUM3"
      },
      "source": [
        "# Create a new column in the DataFrame (2) - Daily return\n",
        "\n",
        "# Daily Return is calcuated as PriceDiff/Close\n",
        "#Create a new column Return in the DataFrame fb\n",
        "fb['Return'] = fb['PriceDiff'] /fb['Close']"
      ],
      "execution_count": null,
      "outputs": []
    },
    {
      "cell_type": "code",
      "metadata": {
        "id": "UjRRTzG9ldAN",
        "colab": {
          "base_uri": "https://localhost:8080/",
          "height": 235
        },
        "outputId": "df8264a0-0f69-43ed-e91f-b98c2425cda2"
      },
      "source": [
        "fb.head()"
      ],
      "execution_count": null,
      "outputs": [
        {
          "output_type": "execute_result",
          "data": {
            "text/html": [
              "<div>\n",
              "<style scoped>\n",
              "    .dataframe tbody tr th:only-of-type {\n",
              "        vertical-align: middle;\n",
              "    }\n",
              "\n",
              "    .dataframe tbody tr th {\n",
              "        vertical-align: top;\n",
              "    }\n",
              "\n",
              "    .dataframe thead th {\n",
              "        text-align: right;\n",
              "    }\n",
              "</style>\n",
              "<table border=\"1\" class=\"dataframe\">\n",
              "  <thead>\n",
              "    <tr style=\"text-align: right;\">\n",
              "      <th></th>\n",
              "      <th>Open</th>\n",
              "      <th>High</th>\n",
              "      <th>Low</th>\n",
              "      <th>Close</th>\n",
              "      <th>Adj Close</th>\n",
              "      <th>Volume</th>\n",
              "      <th>PriceDiff</th>\n",
              "      <th>Return</th>\n",
              "    </tr>\n",
              "    <tr>\n",
              "      <th>Date</th>\n",
              "      <th></th>\n",
              "      <th></th>\n",
              "      <th></th>\n",
              "      <th></th>\n",
              "      <th></th>\n",
              "      <th></th>\n",
              "      <th></th>\n",
              "      <th></th>\n",
              "    </tr>\n",
              "  </thead>\n",
              "  <tbody>\n",
              "    <tr>\n",
              "      <th>2014-12-31</th>\n",
              "      <td>20.400000</td>\n",
              "      <td>20.510000</td>\n",
              "      <td>19.990000</td>\n",
              "      <td>20.049999</td>\n",
              "      <td>19.459270</td>\n",
              "      <td>4157500</td>\n",
              "      <td>0.080000</td>\n",
              "      <td>0.003990</td>\n",
              "    </tr>\n",
              "    <tr>\n",
              "      <th>2015-01-02</th>\n",
              "      <td>20.129999</td>\n",
              "      <td>20.280001</td>\n",
              "      <td>19.809999</td>\n",
              "      <td>20.129999</td>\n",
              "      <td>19.536913</td>\n",
              "      <td>2842000</td>\n",
              "      <td>-0.339998</td>\n",
              "      <td>-0.016890</td>\n",
              "    </tr>\n",
              "    <tr>\n",
              "      <th>2015-01-05</th>\n",
              "      <td>20.129999</td>\n",
              "      <td>20.190001</td>\n",
              "      <td>19.700001</td>\n",
              "      <td>19.790001</td>\n",
              "      <td>19.206934</td>\n",
              "      <td>4948800</td>\n",
              "      <td>-0.600000</td>\n",
              "      <td>-0.030318</td>\n",
              "    </tr>\n",
              "    <tr>\n",
              "      <th>2015-01-06</th>\n",
              "      <td>19.820000</td>\n",
              "      <td>19.840000</td>\n",
              "      <td>19.170000</td>\n",
              "      <td>19.190001</td>\n",
              "      <td>18.624611</td>\n",
              "      <td>4944100</td>\n",
              "      <td>-0.050002</td>\n",
              "      <td>-0.002606</td>\n",
              "    </tr>\n",
              "    <tr>\n",
              "      <th>2015-01-07</th>\n",
              "      <td>19.330000</td>\n",
              "      <td>19.500000</td>\n",
              "      <td>19.080000</td>\n",
              "      <td>19.139999</td>\n",
              "      <td>18.576082</td>\n",
              "      <td>8045200</td>\n",
              "      <td>0.720002</td>\n",
              "      <td>0.037618</td>\n",
              "    </tr>\n",
              "  </tbody>\n",
              "</table>\n",
              "</div>"
            ],
            "text/plain": [
              "                 Open       High        Low  ...   Volume  PriceDiff    Return\n",
              "Date                                         ...                              \n",
              "2014-12-31  20.400000  20.510000  19.990000  ...  4157500   0.080000  0.003990\n",
              "2015-01-02  20.129999  20.280001  19.809999  ...  2842000  -0.339998 -0.016890\n",
              "2015-01-05  20.129999  20.190001  19.700001  ...  4948800  -0.600000 -0.030318\n",
              "2015-01-06  19.820000  19.840000  19.170000  ...  4944100  -0.050002 -0.002606\n",
              "2015-01-07  19.330000  19.500000  19.080000  ...  8045200   0.720002  0.037618\n",
              "\n",
              "[5 rows x 8 columns]"
            ]
          },
          "metadata": {
            "tags": []
          },
          "execution_count": 98
        }
      ]
    },
    {
      "cell_type": "code",
      "metadata": {
        "id": "bw-1WEZQlpIP"
      },
      "source": [
        "#Your turn to create a new column Return in the DataFrame MS\n",
        "ms['Return'] = ms['PriceDiff'] /ms['Close']"
      ],
      "execution_count": null,
      "outputs": []
    },
    {
      "cell_type": "code",
      "metadata": {
        "id": "DxTP4VbGlsM_",
        "colab": {
          "base_uri": "https://localhost:8080/",
          "height": 34
        },
        "outputId": "b0592f75-9b24-41ac-d173-87168384c0cd"
      },
      "source": [
        "#Run this code to print the return on 2015-01-05\n",
        "print(ms['Return'].loc['2015-01-05'])"
      ],
      "execution_count": null,
      "outputs": [
        {
          "output_type": "stream",
          "text": [
            "-0.014677314281143345\n"
          ],
          "name": "stdout"
        }
      ]
    },
    {
      "cell_type": "code",
      "metadata": {
        "id": "o-ySiybBl5De"
      },
      "source": [
        "#Create a new column Direction. \n",
        "#The List Comprehension means : if the price difference is larger than 0, denote as 1, otherwise, denote as 0,\n",
        "#for every record in the DataFrame - fb\n",
        "\n",
        "fb['Direction'] = [1 if fb['PriceDiff'].loc[ei] > 0 else 0 for ei in fb.index ]"
      ],
      "execution_count": null,
      "outputs": []
    },
    {
      "cell_type": "code",
      "metadata": {
        "id": "69P3BxnvnTbY"
      },
      "source": [
        "# Your turn to create a new column Direction for MS\n",
        "\n",
        "ms['Direction'] = [1 if ms['PriceDiff'].loc[ei] > 0 else 0 for ei in ms.index ]"
      ],
      "execution_count": null,
      "outputs": []
    },
    {
      "cell_type": "code",
      "metadata": {
        "id": "NAkMbF2znYJj",
        "colab": {
          "base_uri": "https://localhost:8080/",
          "height": 34
        },
        "outputId": "7044ac98-75ef-4d32-c373-7c165a73de9b"
      },
      "source": [
        "# Run the following code to show the price difference on 2015-01-05\n",
        "print('Price difference on {} is {}. direction is {}'.format('2015-01-05', ms['PriceDiff'].loc['2015-01-05'], ms['Direction'].loc['2015-01-05']))"
      ],
      "execution_count": null,
      "outputs": [
        {
          "output_type": "stream",
          "text": [
            "Price difference on 2015-01-05 is -0.6799999999999997. direction is 0\n"
          ],
          "name": "stdout"
        }
      ]
    },
    {
      "cell_type": "code",
      "metadata": {
        "id": "40qlP-d1nrJK",
        "colab": {
          "base_uri": "https://localhost:8080/",
          "height": 497
        },
        "outputId": "ae85f318-69eb-49a5-97aa-f29fe76633b0"
      },
      "source": [
        "### Create a new column in the DataFrame using Rolling Window calculation (.rolling()) - Moving average\n",
        "\n",
        "fb['ma50'] = fb['Close'].rolling(50).mean()\n",
        "\n",
        "#plot the moving average\n",
        "plt.figure(figsize=(10, 8))\n",
        "fb['ma50'].loc['2015-01-01':'2015-12-31'].plot(label='MA50')\n",
        "fb['Close'].loc['2015-01-01':'2015-12-31'].plot(label='Close')\n",
        "plt.legend()\n",
        "plt.show()"
      ],
      "execution_count": null,
      "outputs": [
        {
          "output_type": "display_data",
          "data": {
            "image/png": "[encoded data removed]",
            "text/plain": [
              "<Figure size 720x576 with 1 Axes>"
            ]
          },
          "metadata": {
            "tags": [],
            "needs_background": "light"
          }
        }
      ]
    },
    {
      "cell_type": "code",
      "metadata": {
        "id": "y_v8RLmOpOOi",
        "colab": {
          "base_uri": "https://localhost:8080/",
          "height": 497
        },
        "outputId": "a7907e4c-5a2e-48d5-d010-cc5fc333acf6"
      },
      "source": [
        "# You can use .rolling() to calculate any numbers of days' Moving Average. This is your turn to calculate \"60 days\"\n",
        "# moving average of Microsoft, rename it as \"ma60\". And follow the codes above in plotting a graph\n",
        "\n",
        "ms['ma60'] = ms['Close'].rolling(60).mean()\n",
        "\n",
        "#plot the moving average\n",
        "plt.figure(figsize=(10, 8))\n",
        "ms['ma60'].loc['2015-01-01':'2015-12-31'].plot(label='MA60')\n",
        "ms['Close'].loc['2015-01-01':'2015-12-31'].plot(label='Close')\n",
        "plt.legend()\n",
        "plt.show()"
      ],
      "execution_count": null,
      "outputs": [
        {
          "output_type": "display_data",
          "data": {
            "image/png": "[encoded data removed]",
            "text/plain": [
              "<Figure size 720x576 with 1 Axes>"
            ]
          },
          "metadata": {
            "tags": [],
            "needs_background": "light"
          }
        }
      ]
    },
    {
      "cell_type": "code",
      "metadata": {
        "id": "-g8b95yntusl",
        "colab": {
          "base_uri": "https://localhost:8080/",
          "height": 235
        },
        "outputId": "90945dad-c0ba-4e65-cd03-d71ad340cd07"
      },
      "source": [
        "### 1. Munging los datos de acciones y agregue dos columnas: MA10 y MA50\n",
        "fb = pd.read_csv('facebook.csv',index_col = 0)\n",
        "fb['MA10'] = fb['Close'].rolling(10).mean()\n",
        "fb['MA50'] = fb['Close'].rolling(50).mean()\n",
        "fb = fb.dropna()\n",
        "fb.head()"
      ],
      "execution_count": null,
      "outputs": [
        {
          "output_type": "execute_result",
          "data": {
            "text/html": [
              "<div>\n",
              "<style scoped>\n",
              "    .dataframe tbody tr th:only-of-type {\n",
              "        vertical-align: middle;\n",
              "    }\n",
              "\n",
              "    .dataframe tbody tr th {\n",
              "        vertical-align: top;\n",
              "    }\n",
              "\n",
              "    .dataframe thead th {\n",
              "        text-align: right;\n",
              "    }\n",
              "</style>\n",
              "<table border=\"1\" class=\"dataframe\">\n",
              "  <thead>\n",
              "    <tr style=\"text-align: right;\">\n",
              "      <th></th>\n",
              "      <th>Open</th>\n",
              "      <th>High</th>\n",
              "      <th>Low</th>\n",
              "      <th>Close</th>\n",
              "      <th>Adj Close</th>\n",
              "      <th>Volume</th>\n",
              "      <th>MA10</th>\n",
              "      <th>MA50</th>\n",
              "    </tr>\n",
              "    <tr>\n",
              "      <th>Date</th>\n",
              "      <th></th>\n",
              "      <th></th>\n",
              "      <th></th>\n",
              "      <th></th>\n",
              "      <th></th>\n",
              "      <th></th>\n",
              "      <th></th>\n",
              "      <th></th>\n",
              "    </tr>\n",
              "  </thead>\n",
              "  <tbody>\n",
              "    <tr>\n",
              "      <th>2015-03-13</th>\n",
              "      <td>22.559999</td>\n",
              "      <td>22.760000</td>\n",
              "      <td>22.250000</td>\n",
              "      <td>22.700001</td>\n",
              "      <td>22.116024</td>\n",
              "      <td>8982200</td>\n",
              "      <td>22.648</td>\n",
              "      <td>21.0174</td>\n",
              "    </tr>\n",
              "    <tr>\n",
              "      <th>2015-03-16</th>\n",
              "      <td>22.879999</td>\n",
              "      <td>23.110001</td>\n",
              "      <td>22.730000</td>\n",
              "      <td>22.969999</td>\n",
              "      <td>22.379078</td>\n",
              "      <td>5923900</td>\n",
              "      <td>22.685</td>\n",
              "      <td>21.0758</td>\n",
              "    </tr>\n",
              "    <tr>\n",
              "      <th>2015-03-17</th>\n",
              "      <td>22.920000</td>\n",
              "      <td>23.260000</td>\n",
              "      <td>22.760000</td>\n",
              "      <td>23.250000</td>\n",
              "      <td>22.651876</td>\n",
              "      <td>7497500</td>\n",
              "      <td>22.792</td>\n",
              "      <td>21.1382</td>\n",
              "    </tr>\n",
              "    <tr>\n",
              "      <th>2015-03-18</th>\n",
              "      <td>23.250000</td>\n",
              "      <td>23.370001</td>\n",
              "      <td>22.660000</td>\n",
              "      <td>22.870001</td>\n",
              "      <td>22.281652</td>\n",
              "      <td>10337600</td>\n",
              "      <td>22.836</td>\n",
              "      <td>21.1998</td>\n",
              "    </tr>\n",
              "    <tr>\n",
              "      <th>2015-03-19</th>\n",
              "      <td>22.950001</td>\n",
              "      <td>23.299999</td>\n",
              "      <td>22.780001</td>\n",
              "      <td>23.219999</td>\n",
              "      <td>22.622650</td>\n",
              "      <td>7768900</td>\n",
              "      <td>22.872</td>\n",
              "      <td>21.2804</td>\n",
              "    </tr>\n",
              "  </tbody>\n",
              "</table>\n",
              "</div>"
            ],
            "text/plain": [
              "                 Open       High        Low  ...    Volume    MA10     MA50\n",
              "Date                                         ...                           \n",
              "2015-03-13  22.559999  22.760000  22.250000  ...   8982200  22.648  21.0174\n",
              "2015-03-16  22.879999  23.110001  22.730000  ...   5923900  22.685  21.0758\n",
              "2015-03-17  22.920000  23.260000  22.760000  ...   7497500  22.792  21.1382\n",
              "2015-03-18  23.250000  23.370001  22.660000  ...  10337600  22.836  21.1998\n",
              "2015-03-19  22.950001  23.299999  22.780001  ...   7768900  22.872  21.2804\n",
              "\n",
              "[5 rows x 8 columns]"
            ]
          },
          "metadata": {
            "tags": []
          },
          "execution_count": 106
        }
      ]
    },
    {
      "cell_type": "code",
      "metadata": {
        "id": "8X7VTuOJtvGm"
      },
      "source": [
        "## 2. Agregue la columna \"Acciones=shares\" para tomar decisiones basadas en la estrategia\n",
        "#Añadir una nueva columna \"Acciones\", si MA10> MA50, denotar como 1 (una acción larga de acciones), de lo contrario, denotar como 0 (no hacer nada)\n",
        "fb['Shares'] = [1 if fb.loc[ei, 'MA10']>fb.loc[ei, 'MA50'] else 0 for ei in fb.index]"
      ],
      "execution_count": null,
      "outputs": []
    },
    {
      "cell_type": "code",
      "metadata": {
        "id": "CnBWXKkutupn",
        "colab": {
          "base_uri": "https://localhost:8080/",
          "height": 296
        },
        "outputId": "a8ca2419-af5d-472c-94ad-06dfa3d9868c"
      },
      "source": [
        "#Agregue una nueva columna \"Beneficio\" usando la Comprensión de lista, para cualquier fila en fb, si shares = 1,\n",
        "# el beneficio se calcula como el precio de cierre de\n",
        "# Tomorrow: el precio de cierre de hoy. De lo contrario, la ganancia es 0.\n",
        "\n",
        "# Trace un gráfico para mostrar la ganancia / pérdida\n",
        "\n",
        "fb['Close1'] = fb['Close'].shift(-1)\n",
        "fb['Profit'] = [fb.loc[ei, 'Close1'] - fb.loc[ei, 'Close'] if fb.loc[ei, 'Shares']==1 else 0 for ei in fb.index]\n",
        "fb['Profit'].plot()\n",
        "plt.axhline(y=0, color='red')"
      ],
      "execution_count": null,
      "outputs": [
        {
          "output_type": "execute_result",
          "data": {
            "text/plain": [
              "<matplotlib.lines.Line2D at 0x7f06943f5cf8>"
            ]
          },
          "metadata": {
            "tags": []
          },
          "execution_count": 108
        },
        {
          "output_type": "display_data",
          "data": {
            "image/png": "[encoded data removed]",
            "text/plain": [
              "<Figure size 432x288 with 1 Axes>"
            ]
          },
          "metadata": {
            "tags": [],
            "needs_background": "light"
          }
        }
      ]
    },
    {
      "cell_type": "code",
      "metadata": {
        "id": "SFdxpwrhtumU",
        "colab": {
          "base_uri": "https://localhost:8080/",
          "height": 340
        },
        "outputId": "bce57c89-561c-4f5b-df16-71e454aca97f"
      },
      "source": [
        "\n",
        "### 3. Use .cumsum() to display our model's performance if we follow the strategy\n",
        "#Use .cumsum() to calculate the accumulated wealth over the period\n",
        "\n",
        "fb['wealth'] = fb['Profit'].cumsum()\n",
        "fb.tail()"
      ],
      "execution_count": null,
      "outputs": [
        {
          "output_type": "execute_result",
          "data": {
            "text/html": [
              "<div>\n",
              "<style scoped>\n",
              "    .dataframe tbody tr th:only-of-type {\n",
              "        vertical-align: middle;\n",
              "    }\n",
              "\n",
              "    .dataframe tbody tr th {\n",
              "        vertical-align: top;\n",
              "    }\n",
              "\n",
              "    .dataframe thead th {\n",
              "        text-align: right;\n",
              "    }\n",
              "</style>\n",
              "<table border=\"1\" class=\"dataframe\">\n",
              "  <thead>\n",
              "    <tr style=\"text-align: right;\">\n",
              "      <th></th>\n",
              "      <th>Open</th>\n",
              "      <th>High</th>\n",
              "      <th>Low</th>\n",
              "      <th>Close</th>\n",
              "      <th>Adj Close</th>\n",
              "      <th>Volume</th>\n",
              "      <th>MA10</th>\n",
              "      <th>MA50</th>\n",
              "      <th>Shares</th>\n",
              "      <th>Close1</th>\n",
              "      <th>Profit</th>\n",
              "      <th>wealth</th>\n",
              "    </tr>\n",
              "    <tr>\n",
              "      <th>Date</th>\n",
              "      <th></th>\n",
              "      <th></th>\n",
              "      <th></th>\n",
              "      <th></th>\n",
              "      <th></th>\n",
              "      <th></th>\n",
              "      <th></th>\n",
              "      <th></th>\n",
              "      <th></th>\n",
              "      <th></th>\n",
              "      <th></th>\n",
              "      <th></th>\n",
              "    </tr>\n",
              "  </thead>\n",
              "  <tbody>\n",
              "    <tr>\n",
              "      <th>2018-01-30</th>\n",
              "      <td>241.110001</td>\n",
              "      <td>246.419998</td>\n",
              "      <td>238.410004</td>\n",
              "      <td>242.720001</td>\n",
              "      <td>242.720001</td>\n",
              "      <td>14270800</td>\n",
              "      <td>235.692003</td>\n",
              "      <td>210.030001</td>\n",
              "      <td>1</td>\n",
              "      <td>245.800003</td>\n",
              "      <td>3.080002</td>\n",
              "      <td>177.820011</td>\n",
              "    </tr>\n",
              "    <tr>\n",
              "      <th>2018-01-31</th>\n",
              "      <td>245.770004</td>\n",
              "      <td>249.270004</td>\n",
              "      <td>244.449997</td>\n",
              "      <td>245.800003</td>\n",
              "      <td>245.800003</td>\n",
              "      <td>11964400</td>\n",
              "      <td>237.800003</td>\n",
              "      <td>210.713801</td>\n",
              "      <td>1</td>\n",
              "      <td>240.500000</td>\n",
              "      <td>-5.300003</td>\n",
              "      <td>172.520008</td>\n",
              "    </tr>\n",
              "    <tr>\n",
              "      <th>2018-02-01</th>\n",
              "      <td>238.520004</td>\n",
              "      <td>246.899994</td>\n",
              "      <td>238.059998</td>\n",
              "      <td>240.500000</td>\n",
              "      <td>240.500000</td>\n",
              "      <td>12980600</td>\n",
              "      <td>239.406003</td>\n",
              "      <td>211.296601</td>\n",
              "      <td>1</td>\n",
              "      <td>233.520004</td>\n",
              "      <td>-6.979996</td>\n",
              "      <td>165.540012</td>\n",
              "    </tr>\n",
              "    <tr>\n",
              "      <th>2018-02-02</th>\n",
              "      <td>237.000000</td>\n",
              "      <td>237.970001</td>\n",
              "      <td>231.169998</td>\n",
              "      <td>233.520004</td>\n",
              "      <td>233.520004</td>\n",
              "      <td>17961600</td>\n",
              "      <td>239.747003</td>\n",
              "      <td>211.685401</td>\n",
              "      <td>1</td>\n",
              "      <td>213.699997</td>\n",
              "      <td>-19.820007</td>\n",
              "      <td>145.720005</td>\n",
              "    </tr>\n",
              "    <tr>\n",
              "      <th>2018-02-05</th>\n",
              "      <td>227.000000</td>\n",
              "      <td>233.229996</td>\n",
              "      <td>205.000000</td>\n",
              "      <td>213.699997</td>\n",
              "      <td>213.699997</td>\n",
              "      <td>28869000</td>\n",
              "      <td>237.748003</td>\n",
              "      <td>211.638401</td>\n",
              "      <td>1</td>\n",
              "      <td>NaN</td>\n",
              "      <td>NaN</td>\n",
              "      <td>NaN</td>\n",
              "    </tr>\n",
              "  </tbody>\n",
              "</table>\n",
              "</div>"
            ],
            "text/plain": [
              "                  Open        High  ...     Profit      wealth\n",
              "Date                                ...                       \n",
              "2018-01-30  241.110001  246.419998  ...   3.080002  177.820011\n",
              "2018-01-31  245.770004  249.270004  ...  -5.300003  172.520008\n",
              "2018-02-01  238.520004  246.899994  ...  -6.979996  165.540012\n",
              "2018-02-02  237.000000  237.970001  ... -19.820007  145.720005\n",
              "2018-02-05  227.000000  233.229996  ...        NaN         NaN\n",
              "\n",
              "[5 rows x 12 columns]"
            ]
          },
          "metadata": {
            "tags": []
          },
          "execution_count": 109
        }
      ]
    },
    {
      "cell_type": "code",
      "metadata": {
        "id": "WHRQAatFwaxd",
        "colab": {
          "base_uri": "https://localhost:8080/",
          "height": 312
        },
        "outputId": "e41a2daf-4965-444e-b3a2-3c25e6e6fd81"
      },
      "source": [
        "\n",
        "# trazar la riqueza para mostrar el crecimiento de las ganancias durante el período\n",
        "\n",
        "fb['wealth'].plot()\n",
        "plt.title('Total money you win is {}'.format(fb.loc[fb.index[-2], 'wealth']))"
      ],
      "execution_count": null,
      "outputs": [
        {
          "output_type": "execute_result",
          "data": {
            "text/plain": [
              "Text(0.5, 1.0, 'Total money you win is 145.72000500000001')"
            ]
          },
          "metadata": {
            "tags": []
          },
          "execution_count": 110
        },
        {
          "output_type": "display_data",
          "data": {
            "image/png": "[encoded data removed]",
            "text/plain": [
              "<Figure size 432x288 with 1 Axes>"
            ]
          },
          "metadata": {
            "tags": [],
            "needs_background": "light"
          }
        }
      ]
    },
    {
      "cell_type": "code",
      "metadata": {
        "id": "IM43TvdSzCw5",
        "colab": {
          "base_uri": "https://localhost:8080/",
          "height": 129
        },
        "outputId": "a164d5fb-b9a1-47e2-81cf-f947918a5157"
      },
      "source": [
        "ms[‘diff’].shift(-1) – ms[‘Close’]"
      ],
      "execution_count": null,
      "outputs": [
        {
          "output_type": "error",
          "ename": "SyntaxError",
          "evalue": "ignored",
          "traceback": [
            "\u001b[0;36m  File \u001b[0;32m\"<ipython-input-111-f1073d492eb9>\"\u001b[0;36m, line \u001b[0;32m1\u001b[0m\n\u001b[0;31m    ms[‘Close’].shift(-1) – ms[‘Close’]\u001b[0m\n\u001b[0m             ^\u001b[0m\n\u001b[0;31mSyntaxError\u001b[0m\u001b[0;31m:\u001b[0m invalid character in identifier\n"
          ]
        }
      ]
    }
  ]
}