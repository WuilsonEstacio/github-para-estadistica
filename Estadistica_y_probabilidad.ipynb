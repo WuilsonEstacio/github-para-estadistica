{
  "nbformat": 4,
  "nbformat_minor": 0,
  "metadata": {
    "colab": {
      "name": "Estadistica_y_probabilidad.ipynb",
      "provenance": [],
      "authorship_tag": "ABX9TyOy3V7ZOXB1unyU2BEU7gky",
      "include_colab_link": true
    },
    "kernelspec": {
      "name": "python3",
      "display_name": "Python 3"
    }
  },
  "cells": [
    {
      "cell_type": "markdown",
      "metadata": {
        "id": "view-in-github",
        "colab_type": "text"
      },
      "source": [
        "<a href=\"https://colab.research.google.com/github/WuilsonEstacio/github-para-estadistica/blob/main/Estadistica_y_probabilidad.ipynb\" target=\"_parent\"><img src=\"https://colab.research.google.com/assets/colab-badge.svg\" alt=\"Open In Colab\"/></a>"
      ]
    },
    {
      "cell_type": "markdown",
      "metadata": {
        "id": "eD5giOLWUFAs"
      },
      "source": [
        "# Ejemplos en Python\n",
        "Calcular los principales indicadores de la estadística descriptiva con Python es muy fácil!\n",
        "\n",
        "https://relopezbriega.github.io/blog/2015/06/27/probabilidad-y-estadistica-con-python/"
      ]
    },
    {
      "cell_type": "markdown",
      "metadata": {
        "id": "1FGhnqiJ68wu"
      },
      "source": [
        "https://relopezbriega.github.io/blog/2015/06/27/probabilidad-y-estadistica-con-python/"
      ]
    },
    {
      "cell_type": "code",
      "metadata": {
        "id": "qXcHbYx7QGlH"
      },
      "source": [
        "import numpy as np # importando numpy\n",
        "from scipy import stats # importando scipy.stats\n",
        "import pandas as pd # importando pandas"
      ],
      "execution_count": null,
      "outputs": []
    },
    {
      "cell_type": "code",
      "metadata": {
        "colab": {
          "base_uri": "https://localhost:8080/"
        },
        "id": "73ZvNSKcMJqD",
        "outputId": "ce84ea97-3bec-46e0-f5ae-09ccea54a716"
      },
      "source": [
        "datos = np.random.randn(5, 4) # datos normalmente distribuidos\n",
        "datos"
      ],
      "execution_count": null,
      "outputs": [
        {
          "output_type": "execute_result",
          "data": {
            "text/plain": [
              "array([[ 0.34732361,  1.85699328, -1.90118877, -1.62021273],\n",
              "       [ 0.90524183, -0.86898327,  1.33352247,  0.76442245],\n",
              "       [-2.54834813,  0.19807115, -1.26874687, -0.54153809],\n",
              "       [ 0.81723248, -0.59038693,  1.0223966 ,  1.48294341],\n",
              "       [ 0.05968249,  0.21919668, -0.14415023, -1.63534825]])"
            ]
          },
          "metadata": {
            "tags": []
          },
          "execution_count": 232
        }
      ]
    },
    {
      "cell_type": "code",
      "metadata": {
        "colab": {
          "base_uri": "https://localhost:8080/",
          "height": 204
        },
        "id": "GE9p1d3nYyKM",
        "outputId": "c7dccb66-f393-4232-c906-105cf01fc72b"
      },
      "source": [
        "# usando pandas\n",
        "dataframe = pd.DataFrame(datos, index=['a', 'b', 'c', 'd', 'e'], \n",
        "                        columns=['col1', 'col2', 'col3', 'col4'])\n",
        "dataframe"
      ],
      "execution_count": null,
      "outputs": [
        {
          "output_type": "execute_result",
          "data": {
            "text/html": [
              "<div>\n",
              "<style scoped>\n",
              "    .dataframe tbody tr th:only-of-type {\n",
              "        vertical-align: middle;\n",
              "    }\n",
              "\n",
              "    .dataframe tbody tr th {\n",
              "        vertical-align: top;\n",
              "    }\n",
              "\n",
              "    .dataframe thead th {\n",
              "        text-align: right;\n",
              "    }\n",
              "</style>\n",
              "<table border=\"1\" class=\"dataframe\">\n",
              "  <thead>\n",
              "    <tr style=\"text-align: right;\">\n",
              "      <th></th>\n",
              "      <th>col1</th>\n",
              "      <th>col2</th>\n",
              "      <th>col3</th>\n",
              "      <th>col4</th>\n",
              "    </tr>\n",
              "  </thead>\n",
              "  <tbody>\n",
              "    <tr>\n",
              "      <th>a</th>\n",
              "      <td>0.347324</td>\n",
              "      <td>1.856993</td>\n",
              "      <td>-1.901189</td>\n",
              "      <td>-1.620213</td>\n",
              "    </tr>\n",
              "    <tr>\n",
              "      <th>b</th>\n",
              "      <td>0.905242</td>\n",
              "      <td>-0.868983</td>\n",
              "      <td>1.333522</td>\n",
              "      <td>0.764422</td>\n",
              "    </tr>\n",
              "    <tr>\n",
              "      <th>c</th>\n",
              "      <td>-2.548348</td>\n",
              "      <td>0.198071</td>\n",
              "      <td>-1.268747</td>\n",
              "      <td>-0.541538</td>\n",
              "    </tr>\n",
              "    <tr>\n",
              "      <th>d</th>\n",
              "      <td>0.817232</td>\n",
              "      <td>-0.590387</td>\n",
              "      <td>1.022397</td>\n",
              "      <td>1.482943</td>\n",
              "    </tr>\n",
              "    <tr>\n",
              "      <th>e</th>\n",
              "      <td>0.059682</td>\n",
              "      <td>0.219197</td>\n",
              "      <td>-0.144150</td>\n",
              "      <td>-1.635348</td>\n",
              "    </tr>\n",
              "  </tbody>\n",
              "</table>\n",
              "</div>"
            ],
            "text/plain": [
              "       col1      col2      col3      col4\n",
              "a  0.347324  1.856993 -1.901189 -1.620213\n",
              "b  0.905242 -0.868983  1.333522  0.764422\n",
              "c -2.548348  0.198071 -1.268747 -0.541538\n",
              "d  0.817232 -0.590387  1.022397  1.482943\n",
              "e  0.059682  0.219197 -0.144150 -1.635348"
            ]
          },
          "metadata": {
            "tags": []
          },
          "execution_count": 233
        }
      ]
    },
    {
      "cell_type": "code",
      "metadata": {
        "colab": {
          "base_uri": "https://localhost:8080/"
        },
        "id": "4ddG6ZbnUkFS",
        "outputId": "7613edb5-33cb-4be5-c230-5a152932b6d5"
      },
      "source": [
        "# media arítmetica\n",
        "datos.mean() # Calcula la media aritmetica de"
      ],
      "execution_count": null,
      "outputs": [
        {
          "output_type": "execute_result",
          "data": {
            "text/plain": [
              "-0.10559384103383358"
            ]
          },
          "metadata": {
            "tags": []
          },
          "execution_count": 234
        }
      ]
    },
    {
      "cell_type": "code",
      "metadata": {
        "colab": {
          "base_uri": "https://localhost:8080/"
        },
        "id": "lCRLbxUVUnul",
        "outputId": "5596c87e-f5f9-4639-cdc0-e6051139c7b3"
      },
      "source": [
        "np.mean(datos) # Mismo resultado desde la funcion de numpy"
      ],
      "execution_count": null,
      "outputs": [
        {
          "output_type": "execute_result",
          "data": {
            "text/plain": [
              "-0.10559384103383358"
            ]
          },
          "metadata": {
            "tags": []
          },
          "execution_count": 235
        }
      ]
    },
    {
      "cell_type": "code",
      "metadata": {
        "colab": {
          "base_uri": "https://localhost:8080/"
        },
        "id": "gtLn5x4YUrk1",
        "outputId": "b22f2bb3-301c-4932-8468-61f19d1cbeab"
      },
      "source": [
        "datos.mean(axis=1) # media aritmetica de cada fila"
      ],
      "execution_count": null,
      "outputs": [
        {
          "output_type": "execute_result",
          "data": {
            "text/plain": [
              "array([-0.32927115,  0.53355087, -1.04014048,  0.68304639, -0.37515483])"
            ]
          },
          "metadata": {
            "tags": []
          },
          "execution_count": 236
        }
      ]
    },
    {
      "cell_type": "code",
      "metadata": {
        "colab": {
          "base_uri": "https://localhost:8080/"
        },
        "id": "Qr_wLnIdUvWl",
        "outputId": "ca2e3a17-27d6-4597-90d8-7f80fd2bb406"
      },
      "source": [
        "datos.mean(axis=0) # media aritmetica de cada columna"
      ],
      "execution_count": null,
      "outputs": [
        {
          "output_type": "execute_result",
          "data": {
            "text/plain": [
              "array([-0.08377354,  0.16297818, -0.19163336, -0.30994664])"
            ]
          },
          "metadata": {
            "tags": []
          },
          "execution_count": 237
        }
      ]
    },
    {
      "cell_type": "code",
      "metadata": {
        "colab": {
          "base_uri": "https://localhost:8080/"
        },
        "id": "j-T0a6zcUzQl",
        "outputId": "6f17d9c4-0f75-422e-adea-fd54c43e6d37"
      },
      "source": [
        "# mediana\n",
        "np.median(datos) "
      ],
      "execution_count": null,
      "outputs": [
        {
          "output_type": "execute_result",
          "data": {
            "text/plain": [
              "0.12887682071230047"
            ]
          },
          "metadata": {
            "tags": []
          },
          "execution_count": 238
        }
      ]
    },
    {
      "cell_type": "code",
      "metadata": {
        "colab": {
          "base_uri": "https://localhost:8080/"
        },
        "id": "LkdqGgmOU1Gt",
        "outputId": "8fd8baf3-a7ee-4773-92f7-28b9ec7ef971"
      },
      "source": [
        "np.median(datos, 0) # media aritmetica de cada columna"
      ],
      "execution_count": null,
      "outputs": [
        {
          "output_type": "execute_result",
          "data": {
            "text/plain": [
              "array([ 0.34732361,  0.19807115, -0.14415023, -0.54153809])"
            ]
          },
          "metadata": {
            "tags": []
          },
          "execution_count": 239
        }
      ]
    },
    {
      "cell_type": "code",
      "metadata": {
        "colab": {
          "base_uri": "https://localhost:8080/"
        },
        "id": "RwYFIpYQU5Ul",
        "outputId": "50b98f83-ac4d-47d1-f314-7f4627a25083"
      },
      "source": [
        "# Desviación típica\n",
        "np.std(datos)"
      ],
      "execution_count": null,
      "outputs": [
        {
          "output_type": "execute_result",
          "data": {
            "text/plain": [
              "1.2034693508828012"
            ]
          },
          "metadata": {
            "tags": []
          },
          "execution_count": 240
        }
      ]
    },
    {
      "cell_type": "code",
      "metadata": {
        "colab": {
          "base_uri": "https://localhost:8080/"
        },
        "id": "_ZcAV-bOU8s2",
        "outputId": "55ce69dd-78c0-4562-c490-6dcce966f4d6"
      },
      "source": [
        "np.std(datos, 0) # Desviación típica de cada columna"
      ],
      "execution_count": null,
      "outputs": [
        {
          "output_type": "execute_result",
          "data": {
            "text/plain": [
              "array([1.27047358, 0.94937691, 1.25578476, 1.2566499 ])"
            ]
          },
          "metadata": {
            "tags": []
          },
          "execution_count": 241
        }
      ]
    },
    {
      "cell_type": "code",
      "metadata": {
        "colab": {
          "base_uri": "https://localhost:8080/"
        },
        "id": "z5q0XdcqU9YF",
        "outputId": "2f949273-9ec2-4630-b729-41391c27cff6"
      },
      "source": [
        "# varianza\n",
        "np.var(datos) "
      ],
      "execution_count": null,
      "outputs": [
        {
          "output_type": "execute_result",
          "data": {
            "text/plain": [
              "1.448338478514271"
            ]
          },
          "metadata": {
            "tags": []
          },
          "execution_count": 242
        }
      ]
    },
    {
      "cell_type": "code",
      "metadata": {
        "colab": {
          "base_uri": "https://localhost:8080/"
        },
        "id": "IZ8wEA63U_om",
        "outputId": "4e99aa1c-eabb-4cec-a9bf-f199f3c40a61"
      },
      "source": [
        "np.var(datos, 0) # varianza de cada columna"
      ],
      "execution_count": null,
      "outputs": [
        {
          "output_type": "execute_result",
          "data": {
            "text/plain": [
              "array([1.61410311, 0.90131652, 1.57699538, 1.57916898])"
            ]
          },
          "metadata": {
            "tags": []
          },
          "execution_count": 243
        }
      ]
    },
    {
      "cell_type": "code",
      "metadata": {
        "colab": {
          "base_uri": "https://localhost:8080/"
        },
        "id": "w4d6mllfNh5g",
        "outputId": "c5290f32-99b5-4dad-efa8-e2de77a5bb95"
      },
      "source": [
        "# moda\n",
        "stats.mode(datos) # Calcula la moda de cada columna\n",
        "# el 2do array devuelve la frecuencia."
      ],
      "execution_count": null,
      "outputs": [
        {
          "output_type": "execute_result",
          "data": {
            "text/plain": [
              "ModeResult(mode=array([[-2.54834813, -0.86898327, -1.90118877, -1.63534825]]), count=array([[1, 1, 1, 1]]))"
            ]
          },
          "metadata": {
            "tags": []
          },
          "execution_count": 244
        }
      ]
    },
    {
      "cell_type": "markdown",
      "metadata": {
        "id": "ie_-XiXIXo7T"
      },
      "source": [
        "# Datos2"
      ]
    },
    {
      "cell_type": "code",
      "metadata": {
        "colab": {
          "base_uri": "https://localhost:8080/"
        },
        "id": "Htw8XcAGSEDf",
        "outputId": "8fc8f2e0-0b4c-462c-cffc-b262c3546cb7"
      },
      "source": [
        "# moda con pandas\n",
        "datos2 = np.array([1, 2, 3, 6, 6, 1, 2, 4, 2, 2, 6, 6, 8, 10, 6])\n",
        "stats.mode(datos2) # aqui la moda es el 6 porque aparece 5 veces en el vector."
      ],
      "execution_count": null,
      "outputs": [
        {
          "output_type": "execute_result",
          "data": {
            "text/plain": [
              "ModeResult(mode=array([6]), count=array([5]))"
            ]
          },
          "metadata": {
            "tags": []
          },
          "execution_count": 245
        }
      ]
    },
    {
      "cell_type": "code",
      "metadata": {
        "colab": {
          "base_uri": "https://localhost:8080/"
        },
        "id": "lmIYzXI8S0g9",
        "outputId": "42d2aae7-6433-41b2-96cd-83a0b1b70c15"
      },
      "source": [
        "# correlacion\n",
        "np.corrcoef(datos) # Crea matriz de correlación."
      ],
      "execution_count": null,
      "outputs": [
        {
          "output_type": "execute_result",
          "data": {
            "text/plain": [
              "array([[ 1.        , -0.85323368,  0.22594411, -0.89895063,  0.63149578],\n",
              "       [-0.85323368,  1.        , -0.69744767,  0.8854045 , -0.31475826],\n",
              "       [ 0.22594411, -0.69744767,  1.        , -0.46479035, -0.20065142],\n",
              "       [-0.89895063,  0.8854045 , -0.46479035,  1.        , -0.71198389],\n",
              "       [ 0.63149578, -0.31475826, -0.20065142, -0.71198389,  1.        ]])"
            ]
          },
          "metadata": {
            "tags": []
          },
          "execution_count": 246
        }
      ]
    },
    {
      "cell_type": "code",
      "metadata": {
        "colab": {
          "base_uri": "https://localhost:8080/"
        },
        "id": "FjtrquIIVQZz",
        "outputId": "8cdb50a3-5aca-42e0-d6a8-298c42805a2c"
      },
      "source": [
        "# calculando la correlación entre dos vectores.\n",
        "np.corrcoef(datos[0], datos[1])"
      ],
      "execution_count": null,
      "outputs": [
        {
          "output_type": "execute_result",
          "data": {
            "text/plain": [
              "array([[ 1.        , -0.85323368],\n",
              "       [-0.85323368,  1.        ]])"
            ]
          },
          "metadata": {
            "tags": []
          },
          "execution_count": 247
        }
      ]
    },
    {
      "cell_type": "code",
      "metadata": {
        "colab": {
          "base_uri": "https://localhost:8080/"
        },
        "id": "9UJ8in7XVTC_",
        "outputId": "89b6665e-cff4-4b44-e1a9-01b647ae74b8"
      },
      "source": [
        "# covarianza\n",
        "np.cov(datos) # calcula matriz de covarianza"
      ],
      "execution_count": null,
      "outputs": [
        {
          "output_type": "execute_result",
          "data": {
            "text/plain": [
              "array([[ 3.12499593, -1.45678584,  0.46743217, -1.41977442,  0.9524447 ],\n",
              "       [-1.45678584,  0.93283748, -0.78832891,  0.76401783, -0.25937297],\n",
              "       [ 0.46743217, -0.78832891,  1.36957453, -0.48596917, -0.20034553],\n",
              "       [-1.41977442,  0.76401783, -0.48596917,  0.79821071, -0.54271713],\n",
              "       [ 0.9524447 , -0.25937297, -0.20034553, -0.54271713,  0.72792926]])"
            ]
          },
          "metadata": {
            "tags": []
          },
          "execution_count": 248
        }
      ]
    },
    {
      "cell_type": "code",
      "metadata": {
        "colab": {
          "base_uri": "https://localhost:8080/"
        },
        "id": "gVHV1GG2VTHB",
        "outputId": "c7af08ba-1308-4ad9-fe94-a81f7ac43c40"
      },
      "source": [
        "# covarianza de dos vectores\n",
        "np.cov(datos[0], datos[1])"
      ],
      "execution_count": null,
      "outputs": [
        {
          "output_type": "execute_result",
          "data": {
            "text/plain": [
              "array([[ 3.12499593, -1.45678584],\n",
              "       [-1.45678584,  0.93283748]])"
            ]
          },
          "metadata": {
            "tags": []
          },
          "execution_count": 249
        }
      ]
    },
    {
      "cell_type": "code",
      "metadata": {
        "colab": {
          "base_uri": "https://localhost:8080/",
          "height": 204
        },
        "id": "Ezlmb085VTMr",
        "outputId": "696672d4-a554-43f4-b4d1-c042488e55ed"
      },
      "source": [
        "# usando pandas\n",
        "dataframe = pd.DataFrame(datos, index=['a', 'b', 'c', 'd', 'e'], \n",
        "                        columns=['col1', 'col2', 'col3', 'col4'])\n",
        "dataframe"
      ],
      "execution_count": null,
      "outputs": [
        {
          "output_type": "execute_result",
          "data": {
            "text/html": [
              "<div>\n",
              "<style scoped>\n",
              "    .dataframe tbody tr th:only-of-type {\n",
              "        vertical-align: middle;\n",
              "    }\n",
              "\n",
              "    .dataframe tbody tr th {\n",
              "        vertical-align: top;\n",
              "    }\n",
              "\n",
              "    .dataframe thead th {\n",
              "        text-align: right;\n",
              "    }\n",
              "</style>\n",
              "<table border=\"1\" class=\"dataframe\">\n",
              "  <thead>\n",
              "    <tr style=\"text-align: right;\">\n",
              "      <th></th>\n",
              "      <th>col1</th>\n",
              "      <th>col2</th>\n",
              "      <th>col3</th>\n",
              "      <th>col4</th>\n",
              "    </tr>\n",
              "  </thead>\n",
              "  <tbody>\n",
              "    <tr>\n",
              "      <th>a</th>\n",
              "      <td>0.347324</td>\n",
              "      <td>1.856993</td>\n",
              "      <td>-1.901189</td>\n",
              "      <td>-1.620213</td>\n",
              "    </tr>\n",
              "    <tr>\n",
              "      <th>b</th>\n",
              "      <td>0.905242</td>\n",
              "      <td>-0.868983</td>\n",
              "      <td>1.333522</td>\n",
              "      <td>0.764422</td>\n",
              "    </tr>\n",
              "    <tr>\n",
              "      <th>c</th>\n",
              "      <td>-2.548348</td>\n",
              "      <td>0.198071</td>\n",
              "      <td>-1.268747</td>\n",
              "      <td>-0.541538</td>\n",
              "    </tr>\n",
              "    <tr>\n",
              "      <th>d</th>\n",
              "      <td>0.817232</td>\n",
              "      <td>-0.590387</td>\n",
              "      <td>1.022397</td>\n",
              "      <td>1.482943</td>\n",
              "    </tr>\n",
              "    <tr>\n",
              "      <th>e</th>\n",
              "      <td>0.059682</td>\n",
              "      <td>0.219197</td>\n",
              "      <td>-0.144150</td>\n",
              "      <td>-1.635348</td>\n",
              "    </tr>\n",
              "  </tbody>\n",
              "</table>\n",
              "</div>"
            ],
            "text/plain": [
              "       col1      col2      col3      col4\n",
              "a  0.347324  1.856993 -1.901189 -1.620213\n",
              "b  0.905242 -0.868983  1.333522  0.764422\n",
              "c -2.548348  0.198071 -1.268747 -0.541538\n",
              "d  0.817232 -0.590387  1.022397  1.482943\n",
              "e  0.059682  0.219197 -0.144150 -1.635348"
            ]
          },
          "metadata": {
            "tags": []
          },
          "execution_count": 250
        }
      ]
    },
    {
      "cell_type": "code",
      "metadata": {
        "colab": {
          "base_uri": "https://localhost:8080/",
          "height": 297
        },
        "id": "7ue9Vru0VZxW",
        "outputId": "d0c0b7b2-2dd4-4b92-fe11-75b749190f37"
      },
      "source": [
        "# resumen estadistadistico con pandas\n",
        "dataframe.describe()"
      ],
      "execution_count": null,
      "outputs": [
        {
          "output_type": "execute_result",
          "data": {
            "text/html": [
              "<div>\n",
              "<style scoped>\n",
              "    .dataframe tbody tr th:only-of-type {\n",
              "        vertical-align: middle;\n",
              "    }\n",
              "\n",
              "    .dataframe tbody tr th {\n",
              "        vertical-align: top;\n",
              "    }\n",
              "\n",
              "    .dataframe thead th {\n",
              "        text-align: right;\n",
              "    }\n",
              "</style>\n",
              "<table border=\"1\" class=\"dataframe\">\n",
              "  <thead>\n",
              "    <tr style=\"text-align: right;\">\n",
              "      <th></th>\n",
              "      <th>col1</th>\n",
              "      <th>col2</th>\n",
              "      <th>col3</th>\n",
              "      <th>col4</th>\n",
              "    </tr>\n",
              "  </thead>\n",
              "  <tbody>\n",
              "    <tr>\n",
              "      <th>count</th>\n",
              "      <td>5.000000</td>\n",
              "      <td>5.000000</td>\n",
              "      <td>5.000000</td>\n",
              "      <td>5.000000</td>\n",
              "    </tr>\n",
              "    <tr>\n",
              "      <th>mean</th>\n",
              "      <td>-0.083774</td>\n",
              "      <td>0.162978</td>\n",
              "      <td>-0.191633</td>\n",
              "      <td>-0.309947</td>\n",
              "    </tr>\n",
              "    <tr>\n",
              "      <th>std</th>\n",
              "      <td>1.420433</td>\n",
              "      <td>1.061436</td>\n",
              "      <td>1.404010</td>\n",
              "      <td>1.404977</td>\n",
              "    </tr>\n",
              "    <tr>\n",
              "      <th>min</th>\n",
              "      <td>-2.548348</td>\n",
              "      <td>-0.868983</td>\n",
              "      <td>-1.901189</td>\n",
              "      <td>-1.635348</td>\n",
              "    </tr>\n",
              "    <tr>\n",
              "      <th>25%</th>\n",
              "      <td>0.059682</td>\n",
              "      <td>-0.590387</td>\n",
              "      <td>-1.268747</td>\n",
              "      <td>-1.620213</td>\n",
              "    </tr>\n",
              "    <tr>\n",
              "      <th>50%</th>\n",
              "      <td>0.347324</td>\n",
              "      <td>0.198071</td>\n",
              "      <td>-0.144150</td>\n",
              "      <td>-0.541538</td>\n",
              "    </tr>\n",
              "    <tr>\n",
              "      <th>75%</th>\n",
              "      <td>0.817232</td>\n",
              "      <td>0.219197</td>\n",
              "      <td>1.022397</td>\n",
              "      <td>0.764422</td>\n",
              "    </tr>\n",
              "    <tr>\n",
              "      <th>max</th>\n",
              "      <td>0.905242</td>\n",
              "      <td>1.856993</td>\n",
              "      <td>1.333522</td>\n",
              "      <td>1.482943</td>\n",
              "    </tr>\n",
              "  </tbody>\n",
              "</table>\n",
              "</div>"
            ],
            "text/plain": [
              "           col1      col2      col3      col4\n",
              "count  5.000000  5.000000  5.000000  5.000000\n",
              "mean  -0.083774  0.162978 -0.191633 -0.309947\n",
              "std    1.420433  1.061436  1.404010  1.404977\n",
              "min   -2.548348 -0.868983 -1.901189 -1.635348\n",
              "25%    0.059682 -0.590387 -1.268747 -1.620213\n",
              "50%    0.347324  0.198071 -0.144150 -0.541538\n",
              "75%    0.817232  0.219197  1.022397  0.764422\n",
              "max    0.905242  1.856993  1.333522  1.482943"
            ]
          },
          "metadata": {
            "tags": []
          },
          "execution_count": 251
        }
      ]
    },
    {
      "cell_type": "code",
      "metadata": {
        "colab": {
          "base_uri": "https://localhost:8080/"
        },
        "id": "_mMECdaGVcYe",
        "outputId": "fd08f896-976f-48bc-e0b2-05c434272cae"
      },
      "source": [
        "# sumando las columnas de datos o dataframe\n",
        "dataframe.sum()"
      ],
      "execution_count": null,
      "outputs": [
        {
          "output_type": "execute_result",
          "data": {
            "text/plain": [
              "col1   -0.418868\n",
              "col2    0.814891\n",
              "col3   -0.958167\n",
              "col4   -1.549733\n",
              "dtype: float64"
            ]
          },
          "metadata": {
            "tags": []
          },
          "execution_count": 252
        }
      ]
    },
    {
      "cell_type": "code",
      "metadata": {
        "colab": {
          "base_uri": "https://localhost:8080/"
        },
        "id": "NlM1OfvqVcej",
        "outputId": "3430f3a4-b155-4db8-a072-f94541cc7218"
      },
      "source": [
        "# sumando filas de datos o dataframe\n",
        "dataframe.sum(axis=1)"
      ],
      "execution_count": null,
      "outputs": [
        {
          "output_type": "execute_result",
          "data": {
            "text/plain": [
              "a   -1.317085\n",
              "b    2.134203\n",
              "c   -4.160562\n",
              "d    2.732186\n",
              "e   -1.500619\n",
              "dtype: float64"
            ]
          },
          "metadata": {
            "tags": []
          },
          "execution_count": 253
        }
      ]
    },
    {
      "cell_type": "code",
      "metadata": {
        "colab": {
          "base_uri": "https://localhost:8080/",
          "height": 204
        },
        "id": "9LnLHehPVckh",
        "outputId": "d0ddf0ea-9c1a-4b64-cebb-502495e8f9bd"
      },
      "source": [
        "dataframe.cumsum() # acumulados de dataframe"
      ],
      "execution_count": null,
      "outputs": [
        {
          "output_type": "execute_result",
          "data": {
            "text/html": [
              "<div>\n",
              "<style scoped>\n",
              "    .dataframe tbody tr th:only-of-type {\n",
              "        vertical-align: middle;\n",
              "    }\n",
              "\n",
              "    .dataframe tbody tr th {\n",
              "        vertical-align: top;\n",
              "    }\n",
              "\n",
              "    .dataframe thead th {\n",
              "        text-align: right;\n",
              "    }\n",
              "</style>\n",
              "<table border=\"1\" class=\"dataframe\">\n",
              "  <thead>\n",
              "    <tr style=\"text-align: right;\">\n",
              "      <th></th>\n",
              "      <th>col1</th>\n",
              "      <th>col2</th>\n",
              "      <th>col3</th>\n",
              "      <th>col4</th>\n",
              "    </tr>\n",
              "  </thead>\n",
              "  <tbody>\n",
              "    <tr>\n",
              "      <th>a</th>\n",
              "      <td>0.347324</td>\n",
              "      <td>1.856993</td>\n",
              "      <td>-1.901189</td>\n",
              "      <td>-1.620213</td>\n",
              "    </tr>\n",
              "    <tr>\n",
              "      <th>b</th>\n",
              "      <td>1.252565</td>\n",
              "      <td>0.988010</td>\n",
              "      <td>-0.567666</td>\n",
              "      <td>-0.855790</td>\n",
              "    </tr>\n",
              "    <tr>\n",
              "      <th>c</th>\n",
              "      <td>-1.295783</td>\n",
              "      <td>1.186081</td>\n",
              "      <td>-1.836413</td>\n",
              "      <td>-1.397328</td>\n",
              "    </tr>\n",
              "    <tr>\n",
              "      <th>d</th>\n",
              "      <td>-0.478550</td>\n",
              "      <td>0.595694</td>\n",
              "      <td>-0.814017</td>\n",
              "      <td>0.085615</td>\n",
              "    </tr>\n",
              "    <tr>\n",
              "      <th>e</th>\n",
              "      <td>-0.418868</td>\n",
              "      <td>0.814891</td>\n",
              "      <td>-0.958167</td>\n",
              "      <td>-1.549733</td>\n",
              "    </tr>\n",
              "  </tbody>\n",
              "</table>\n",
              "</div>"
            ],
            "text/plain": [
              "       col1      col2      col3      col4\n",
              "a  0.347324  1.856993 -1.901189 -1.620213\n",
              "b  1.252565  0.988010 -0.567666 -0.855790\n",
              "c -1.295783  1.186081 -1.836413 -1.397328\n",
              "d -0.478550  0.595694 -0.814017  0.085615\n",
              "e -0.418868  0.814891 -0.958167 -1.549733"
            ]
          },
          "metadata": {
            "tags": []
          },
          "execution_count": 254
        }
      ]
    },
    {
      "cell_type": "code",
      "metadata": {
        "colab": {
          "base_uri": "https://localhost:8080/"
        },
        "id": "caTdIipEVc5c",
        "outputId": "32b56923-5270-4746-8a97-7bb06fdc14c8"
      },
      "source": [
        "# media aritmetica de cada columna con pandas\n",
        "dataframe.mean()"
      ],
      "execution_count": null,
      "outputs": [
        {
          "output_type": "execute_result",
          "data": {
            "text/plain": [
              "col1   -0.083774\n",
              "col2    0.162978\n",
              "col3   -0.191633\n",
              "col4   -0.309947\n",
              "dtype: float64"
            ]
          },
          "metadata": {
            "tags": []
          },
          "execution_count": 255
        }
      ]
    },
    {
      "cell_type": "code",
      "metadata": {
        "colab": {
          "base_uri": "https://localhost:8080/"
        },
        "id": "5DU6QiOZVk0u",
        "outputId": "61d5b042-9bd8-4318-da21-ed4baa1e72b4"
      },
      "source": [
        "# media aritmetica de cada fila con pandas\n",
        "dataframe.mean(axis=1)"
      ],
      "execution_count": null,
      "outputs": [
        {
          "output_type": "execute_result",
          "data": {
            "text/plain": [
              "a   -0.329271\n",
              "b    0.533551\n",
              "c   -1.040140\n",
              "d    0.683046\n",
              "e   -0.375155\n",
              "dtype: float64"
            ]
          },
          "metadata": {
            "tags": []
          },
          "execution_count": 261
        }
      ]
    }
  ]
}